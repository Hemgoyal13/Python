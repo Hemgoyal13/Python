{
  "nbformat": 4,
  "nbformat_minor": 0,
  "metadata": {
    "colab": {
      "provenance": []
    },
    "kernelspec": {
      "name": "python3",
      "display_name": "Python 3"
    },
    "language_info": {
      "name": "python"
    }
  },
  "cells": [
    {
      "cell_type": "code",
      "execution_count": 9,
      "metadata": {
        "colab": {
          "base_uri": "https://localhost:8080/"
        },
        "id": "UNv03wjUxGjX",
        "outputId": "6d5a0d65-214f-403a-be2b-562f8ea7133f"
      },
      "outputs": [
        {
          "output_type": "stream",
          "name": "stdout",
          "text": [
            "Buddy says Woof!\n",
            "Golden Retriever this is breed\n",
            "Max says Woof!\n",
            "Labrador this is breed\n"
          ]
        }
      ],
      "source": [
        "class Dog:\n",
        "  def __init__(self,name,breed):\n",
        "    self.name=name\n",
        "    self.breed=breed\n",
        "\n",
        "  def bark(self):\n",
        "    print(f\"{self.name} says Woof!\")\n",
        "    print(f\"{self.breed} this is breed\")\n",
        "\n",
        "dog1=Dog(\"Buddy\",\"Golden Retriever\")\n",
        "dog2=Dog(\"Max\",\"Labrador\")\n",
        "\n",
        "dog1.bark()\n",
        "dog2.bark()"
      ]
    }
  ]
}