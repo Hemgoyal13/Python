{
  "nbformat": 4,
  "nbformat_minor": 0,
  "metadata": {
    "colab": {
      "provenance": []
    },
    "kernelspec": {
      "name": "python3",
      "display_name": "Python 3"
    },
    "language_info": {
      "name": "python"
    }
  },
  "cells": [
    {
      "cell_type": "code",
      "execution_count": null,
      "metadata": {
        "id": "_z5IA6eMnAPv"
      },
      "outputs": [],
      "source": [
        "#file handeling\n",
        "open(\"file name\",\"r\") # operation on file is read \"r\"\n",
        "x=fileobj.read()\n",
        "fileobj.close() #file is save when we close the file\n",
        "\n",
        "\n",
        "print(x) # data is stored in the file\n",
        "# if we want to do some work in the file we have to use the object part\n",
        "\n",
        "# when we use write the old data is deleted and only that data showing which is given by the user\n",
        "# r+ read and write the data\n",
        "# r+ write and read the data old data is replaced by new data\n",
        "# w+ is used to remove all the previous data in the file and we\n",
        "# can write new data in it\n",
        "# if we want to see the position of the cursor\n",
        "# we use print(\"1:\",fileobj.tell())\n",
        "\n",
        "#fileobj.write(rajasthan)\n",
        "#print(fileobj.tell())\n",
        "#fileobj.seek(4)\n",
        "# print(\"3rd time\",fileobj.tell())\n",
        "\n",
        "\n",
        "# method no. two to read a file in pyhton\n",
        "# no need of close in this method\n",
        "\n",
        "#with open(\"regex.txt\",\"r\") as f:\n",
        "  # x=f.read()\n",
        "\n",
        "  # print(x)\n",
        "\n",
        "\n",
        "#read line one by one\n",
        "#with open(\"regex.txt\",\"r\") as f:\n",
        "  # print(f.readline())\n",
        "\n",
        "\n",
        "# read all the line using loop\n",
        "#with open(\"regex.txt\",\"r\") as f:\n",
        "  # for line in f:\n",
        "      #print(line)\n",
        "\n",
        "\n",
        "\n",
        "#read all line and give the data in list form\n",
        "#with open(\"regex.txt\",\"r\") as f:\n",
        "  # print(f.readlines())\n",
        "\n",
        "\n",
        "#with open(\"regex.txt\",\"r\") as f:\n",
        "  # for line in f:\n",
        "      #print(line.strip())\n"
      ]
    },
    {
      "cell_type": "code",
      "source": [
        "\"hey Hem\".split()\n"
      ],
      "metadata": {
        "colab": {
          "base_uri": "https://localhost:8080/"
        },
        "id": "9WDbw2BLwF6h",
        "outputId": "d7eef3be-c7ab-448c-8130-f6887a55b421"
      },
      "execution_count": null,
      "outputs": [
        {
          "output_type": "execute_result",
          "data": {
            "text/plain": [
              "['hey', 'Hem']"
            ]
          },
          "metadata": {},
          "execution_count": 1
        }
      ]
    },
    {
      "cell_type": "code",
      "source": [
        "\"hey hem bca\".split()"
      ],
      "metadata": {
        "colab": {
          "base_uri": "https://localhost:8080/"
        },
        "id": "Z0TNwDJxwa_W",
        "outputId": "3a1cb4da-901d-41da-e17f-f1bccd7aea2e"
      },
      "execution_count": null,
      "outputs": [
        {
          "output_type": "execute_result",
          "data": {
            "text/plain": [
              "['hey', 'hem', 'bca']"
            ]
          },
          "metadata": {},
          "execution_count": 7
        }
      ]
    },
    {
      "cell_type": "code",
      "source": [
        "\" \".join(['hey', 'Hem'])"
      ],
      "metadata": {
        "colab": {
          "base_uri": "https://localhost:8080/",
          "height": 36
        },
        "id": "7X4cc_O6wQhU",
        "outputId": "1d427a77-9b1f-47f6-bce3-701251238185"
      },
      "execution_count": null,
      "outputs": [
        {
          "output_type": "execute_result",
          "data": {
            "text/plain": [
              "'hey Hem'"
            ],
            "application/vnd.google.colaboratory.intrinsic+json": {
              "type": "string"
            }
          },
          "metadata": {},
          "execution_count": 2
        }
      ]
    },
    {
      "cell_type": "code",
      "source": [
        "#with open(\"regex.txt\",\"r\") as f:\n",
        "  # for line in f:\n",
        "  #     line=line.strip()\n",
        "  #     name,age=line.strip(\",\")\n",
        "  #     print(\"name\",name, \"age\",age)\n",
        "\n"
      ],
      "metadata": {
        "id": "8o5Sgdj4xNFv"
      },
      "execution_count": null,
      "outputs": []
    },
    {
      "cell_type": "code",
      "source": [
        "# csv packeg comma seperated values\n",
        "# import csv (importing csv file)\n",
        "# with open(\"regex1.txt\",\"r\") as fileobj:\n",
        " # fCsv=csv.reader(fileobj)"
      ],
      "metadata": {
        "id": "mB6nE4HHyQOt"
      },
      "execution_count": null,
      "outputs": []
    }
  ]
}