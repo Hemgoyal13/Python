{
 "cells": [
  {
   "cell_type": "code",
   "execution_count": 4,
   "id": "02d69db6-c457-4879-af33-b1fe534f5a0e",
   "metadata": {},
   "outputs": [
    {
     "name": "stdout",
     "output_type": "stream",
     "text": [
      "Hem\n",
      "5000\n",
      "Deposite successfully! New Balance:6000\n",
      "withdrawal successful new balance: 4000\n"
     ]
    }
   ],
   "source": [
    "class BankAccount:\n",
    "    def __init__(self,account_holder,balance):\n",
    "        self.__account_holder=account_holder\n",
    "        self.__balance=balance\n",
    "\n",
    "    def get_account_holder(self):\n",
    "        return self.__account_holder\n",
    "\n",
    "    def get_balance(self):\n",
    "        return self.__balance\n",
    "\n",
    "    def deposite(self,amount):\n",
    "        if amount>0:\n",
    "            self.__balance+=amount\n",
    "            return f\"Deposite successfully! New Balance:{self.__balance}\"\n",
    "        else:\n",
    "            return \"Insufficient funds!\"\n",
    "    def withdraw(self,amount):\n",
    "        if amount<=self.__balance:\n",
    "            self.__balance-=amount\n",
    "            return f\"withdrawal successful new balance: {self.__balance}\"\n",
    "        else:\n",
    "            return \"Insufficient funds!\"\n",
    "\n",
    "account=BankAccount(\"Hem\",5000)\n",
    "print(account.get_account_holder())\n",
    "print(account.get_balance())\n",
    "print(account.deposite(1000))\n",
    "print(account.withdraw(2000))"
   ]
  },
  {
   "cell_type": "code",
   "execution_count": 13,
   "id": "a862fb53-9cf3-470c-95ed-d8b9cce40916",
   "metadata": {},
   "outputs": [
    {
     "name": "stdout",
     "output_type": "stream",
     "text": [
      "Rohit\n",
      "Grade updated successfully\n",
      "Grade updated successfully\n",
      "Invalid grade! must be between 0 and 100.\n"
     ]
    }
   ],
   "source": [
    "class Student:\n",
    "    def __init__(self,name,grade):\n",
    "        self.name=name\n",
    "        self.__grade=grade\n",
    "\n",
    "    def get_grade(self,new_grade):\n",
    "        if 0<= new_grade <=100:\n",
    "            self.__grade=new_grade\n",
    "            return \"Grade updated successfully\"\n",
    "        else:\n",
    "            return \"Invalid grade! must be between 0 and 100.\"\n",
    "\n",
    "student=Student(\"Rohit\",85)\n",
    "print(student.name)\n",
    "print(student.get_grade(90))\n",
    "print(student.get_grade(90))\n",
    "print(student.get_grade(150))"
   ]
  },
  {
   "cell_type": "code",
   "execution_count": 22,
   "id": "6f39abc7-7c88-4086-996a-726f66313306",
   "metadata": {},
   "outputs": [
    {
     "name": "stdout",
     "output_type": "stream",
     "text": [
      "name of the patient is->Sohan\n",
      "age of the pattient id->30\n"
     ]
    },
    {
     "data": {
      "text/plain": [
       "'medial history is not avaliable'"
      ]
     },
     "execution_count": 22,
     "metadata": {},
     "output_type": "execute_result"
    }
   ],
   "source": [
    "class Healthcare_system:\n",
    "    def __init__(self,name,age,medical_history):\n",
    "        self.__name=name\n",
    "        self.__age=age\n",
    "        self.__medical_history=medical_history\n",
    "    def get_details(self):\n",
    "        print(f\"name of the patient is->{self.__name}\")\n",
    "        print(f\"age of the pattient id->{self.__age}\")\n",
    "\n",
    "    def get_medical_record(self):\n",
    "        if self.__medical_history==True:\n",
    "                return \"medial history is provided\"\n",
    "        else:\n",
    "                return \"medial history is not avaliable\"\n",
    "\n",
    "h1=Healthcare_system(\"Sohan\",30,\"True\")\n",
    "h1.get_details()\n",
    "h1.get_medical_record()"
   ]
  },
  {
   "cell_type": "code",
   "execution_count": null,
   "id": "1a3e6936-bd4f-405e-85a0-8b8a20ca3794",
   "metadata": {},
   "outputs": [],
   "source": []
  }
 ],
 "metadata": {
  "kernelspec": {
   "display_name": "Python 3 (ipykernel)",
   "language": "python",
   "name": "python3"
  },
  "language_info": {
   "codemirror_mode": {
    "name": "ipython",
    "version": 3
   },
   "file_extension": ".py",
   "mimetype": "text/x-python",
   "name": "python",
   "nbconvert_exporter": "python",
   "pygments_lexer": "ipython3",
   "version": "3.12.6"
  }
 },
 "nbformat": 4,
 "nbformat_minor": 5
}
