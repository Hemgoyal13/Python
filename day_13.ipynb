{
  "nbformat": 4,
  "nbformat_minor": 0,
  "metadata": {
    "colab": {
      "provenance": []
    },
    "kernelspec": {
      "name": "python3",
      "display_name": "Python 3"
    },
    "language_info": {
      "name": "python"
    }
  },
  "cells": [
    {
      "cell_type": "code",
      "execution_count": null,
      "metadata": {
        "id": "VqOy8QVqr60P"
      },
      "outputs": [],
      "source": [
        "# function\n",
        "# def key word\n",
        "# code reuseable\n"
      ]
    },
    {
      "cell_type": "code",
      "source": [
        "def greeting(user1): # parameter #formal argument\n",
        "  print(\"hey user\",user1)"
      ],
      "metadata": {
        "id": "TyBtgPidsIif"
      },
      "execution_count": null,
      "outputs": []
    },
    {
      "cell_type": "code",
      "source": [
        "greeting(\"Hem \") #argument"
      ],
      "metadata": {
        "colab": {
          "base_uri": "https://localhost:8080/"
        },
        "id": "WxU714VqtEjp",
        "outputId": "2b488830-3106-4363-91c8-162de10e59c4"
      },
      "execution_count": null,
      "outputs": [
        {
          "output_type": "stream",
          "name": "stdout",
          "text": [
            "hey user Hem \n"
          ]
        }
      ]
    },
    {
      "cell_type": "code",
      "source": [
        "# working of the parameter\n",
        "x=10\n",
        "def fun():\n",
        "  x=20\n",
        "  print(\"hey\",x)\n",
        "\n",
        "fun()\n",
        "print(x)"
      ],
      "metadata": {
        "colab": {
          "base_uri": "https://localhost:8080/"
        },
        "id": "MHwpQBM4tQ7f",
        "outputId": "9edf3a40-167f-44a7-98cd-577478879d3a"
      },
      "execution_count": null,
      "outputs": [
        {
          "output_type": "stream",
          "name": "stdout",
          "text": [
            "hey 20\n",
            "10\n"
          ]
        }
      ]
    },
    {
      "cell_type": "code",
      "source": [
        "def func(num):\n",
        "  print(\"fun ction inside:=\",id(num))\n",
        "\n",
        "x=600\n",
        "print(id(x))\n",
        "func(x)"
      ],
      "metadata": {
        "colab": {
          "base_uri": "https://localhost:8080/"
        },
        "id": "Tt6Y14mxuS8V",
        "outputId": "b680b17c-bbd3-4e41-9491-3f9592642b3d"
      },
      "execution_count": null,
      "outputs": [
        {
          "output_type": "stream",
          "name": "stdout",
          "text": [
            "133566001983728\n",
            "fun ction inside:= 133566001983728\n"
          ]
        }
      ]
    },
    {
      "cell_type": "code",
      "source": [
        "def func(num): #num_local=num\n",
        "  print(\"function inside:=\",id(num))\n",
        "  num=601\n",
        "  print(\"function inside new\",id(num),num)\n",
        "\n",
        "num=600\n",
        "print(\"before\",id(num))\n",
        "func(num)\n",
        "print(\"after func:\",id(num))"
      ],
      "metadata": {
        "colab": {
          "base_uri": "https://localhost:8080/"
        },
        "id": "-yAKV8uvuQcI",
        "outputId": "3d0973b6-13eb-4118-8703-611f9fd55605"
      },
      "execution_count": null,
      "outputs": [
        {
          "output_type": "stream",
          "name": "stdout",
          "text": [
            "before 133565113140304\n",
            "function inside:= 133565113140304\n",
            "function inside new 133565113147408 601\n",
            "after func: 133565113140304\n"
          ]
        }
      ]
    },
    {
      "cell_type": "code",
      "source": [
        "# if the variable is mutable and we change in the local var is also affect the global var\n",
        "def func(num1):\n",
        "  num1.append(30)\n",
        "\n",
        "\n",
        "num=[10,20]\n",
        "func(num)\n",
        "print(\"new num:\",num)"
      ],
      "metadata": {
        "id": "iPr79t7rxpkw"
      },
      "execution_count": null,
      "outputs": []
    },
    {
      "cell_type": "code",
      "source": [
        "# types of argument passing\n",
        "# the data will be passed on the base of the position\n",
        "\n",
        "def func(x,y,z):\n",
        "  print(\"x:\",x,\"y:\",y,\"z:\",z)\n",
        "\n",
        "func(10,20,30) #required argument\n",
        "\n",
        "\n"
      ],
      "metadata": {
        "colab": {
          "base_uri": "https://localhost:8080/"
        },
        "id": "91KUWvDQy1jI",
        "outputId": "e0f66d49-57c0-456b-ab36-a2377e211379"
      },
      "execution_count": null,
      "outputs": [
        {
          "output_type": "stream",
          "name": "stdout",
          "text": [
            "x: 10 y: 20 z: 30\n"
          ]
        }
      ]
    },
    {
      "cell_type": "code",
      "source": [
        "# if we use key word argument and position then we define the position first\n",
        "def func(x,y,z):\n",
        "  print(\"x:\",x,\"y:\",y,\"z:\",z)\n",
        "\n",
        "func(y=10,x=20,z=30) #required argument\n",
        "\n",
        "\n"
      ],
      "metadata": {
        "colab": {
          "base_uri": "https://localhost:8080/"
        },
        "id": "LSiat3XC0EZM",
        "outputId": "530cfab9-3459-40cc-f6b9-9dcbe34b0b87"
      },
      "execution_count": null,
      "outputs": [
        {
          "output_type": "stream",
          "name": "stdout",
          "text": [
            "x: 20 y: 10 z: 30\n"
          ]
        }
      ]
    },
    {
      "cell_type": "code",
      "source": [
        "def func(x,y=30,z=\"abc\"):\n",
        "  print(\"x:\",x,\"y:\",y,\"z:\",z)\n",
        "\n",
        "func(z=30,x=20)  #default argument"
      ],
      "metadata": {
        "colab": {
          "base_uri": "https://localhost:8080/"
        },
        "id": "R9v64yq61YVk",
        "outputId": "0a5f3d29-d953-49f7-ac8f-794bdf88bb78"
      },
      "execution_count": null,
      "outputs": [
        {
          "output_type": "stream",
          "name": "stdout",
          "text": [
            "x: 20 y: 30 z: 30\n"
          ]
        }
      ]
    },
    {
      "cell_type": "code",
      "source": [
        "num=6\n",
        "x=0\n",
        "for i in range(2,num):\n",
        "  if(num%i==0):\n",
        "    x=1\n",
        "    break\n",
        "if(x==1):\n",
        "  print(\"not prime\")\n",
        "else:\n",
        "  print(\"prime\")"
      ],
      "metadata": {
        "colab": {
          "base_uri": "https://localhost:8080/"
        },
        "id": "Z8HE1bHO2I3s",
        "outputId": "138be57e-3743-4dce-8aa3-5ab45c1ec239"
      },
      "execution_count": null,
      "outputs": [
        {
          "output_type": "stream",
          "name": "stdout",
          "text": [
            "not prime\n"
          ]
        }
      ]
    },
    {
      "cell_type": "code",
      "source": [
        "def prime_fun(num):\n",
        "\n",
        "  x=0\n",
        "  for i in range(2,num):\n",
        "    if(num%i==0):\n",
        "      x=1\n",
        "      break\n",
        "  if(x==1):\n",
        "    print(\"not prime\")\n",
        "  else:\n",
        "    print(\"prime\")"
      ],
      "metadata": {
        "id": "Itnus59C3V1T"
      },
      "execution_count": null,
      "outputs": []
    },
    {
      "cell_type": "code",
      "source": [
        "prime_fun(3)"
      ],
      "metadata": {
        "colab": {
          "base_uri": "https://localhost:8080/"
        },
        "id": "DHhpDPi63ld4",
        "outputId": "2ed2eeab-1ebd-4757-95ef-871a2fb88f00"
      },
      "execution_count": null,
      "outputs": [
        {
          "output_type": "stream",
          "name": "stdout",
          "text": [
            "prime\n"
          ]
        }
      ]
    },
    {
      "cell_type": "code",
      "source": [
        "def armstromg_num(num):\n",
        "\n",
        "  rem=0\n",
        "  sum=0\n",
        "  temp=num\n",
        "  while(num>0):\n",
        "    rem=num%10\n",
        "    sum=sum+rem*rem*rem\n",
        "    num=num//10\n",
        "  if(temp==sum):\n",
        "    print(\"armstrong number\")\n",
        "  else:\n",
        "    print(\"not armstrong number:\")\n"
      ],
      "metadata": {
        "id": "CITB5JYy4M5p"
      },
      "execution_count": null,
      "outputs": []
    },
    {
      "cell_type": "code",
      "source": [
        "armstromg_num(153)"
      ],
      "metadata": {
        "colab": {
          "base_uri": "https://localhost:8080/"
        },
        "id": "ZFVjfJBp49uS",
        "outputId": "aefb9b7d-b78b-438f-e766-dce717d02ad5"
      },
      "execution_count": null,
      "outputs": [
        {
          "output_type": "stream",
          "name": "stdout",
          "text": [
            "armstrong number\n"
          ]
        }
      ]
    },
    {
      "cell_type": "code",
      "source": [
        "# print do not return anything\n",
        "def func1(x):\n",
        "  print(x+10)\n",
        "\n",
        "  return \"abc\""
      ],
      "metadata": {
        "id": "zkciZEab5l4b"
      },
      "execution_count": null,
      "outputs": []
    },
    {
      "cell_type": "code",
      "source": [
        "y=func1(10)\n",
        "print(\"x:\",y)"
      ],
      "metadata": {
        "colab": {
          "base_uri": "https://localhost:8080/"
        },
        "id": "9VYLAroe6lYo",
        "outputId": "16448044-3804-4182-b066-bd216c78f8da"
      },
      "execution_count": null,
      "outputs": [
        {
          "output_type": "stream",
          "name": "stdout",
          "text": [
            "20\n",
            "x: abc\n"
          ]
        }
      ]
    },
    {
      "cell_type": "code",
      "source": [
        "def func1(x):\n",
        "  return(x+10)\n",
        "\n"
      ],
      "metadata": {
        "id": "8wFkv11A79tF"
      },
      "execution_count": null,
      "outputs": []
    },
    {
      "cell_type": "code",
      "source": [],
      "metadata": {
        "id": "n0ivJAdk8keA"
      },
      "execution_count": null,
      "outputs": []
    },
    {
      "cell_type": "code",
      "source": [
        "#firstclass function vs high order function"
      ],
      "metadata": {
        "id": "h8ljF0Eg8Zfa"
      },
      "execution_count": null,
      "outputs": []
    }
  ]
}