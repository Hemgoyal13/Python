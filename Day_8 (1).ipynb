{
  "nbformat": 4,
  "nbformat_minor": 0,
  "metadata": {
    "colab": {
      "provenance": []
    },
    "kernelspec": {
      "name": "python3",
      "display_name": "Python 3"
    },
    "language_info": {
      "name": "python"
    }
  },
  "cells": [
    {
      "cell_type": "code",
      "execution_count": 9,
      "metadata": {
        "colab": {
          "base_uri": "https://localhost:8080/"
        },
        "id": "EVel0Xp3heA9",
        "outputId": "54ed5dc2-77c4-4fba-b103-05869f0c7eea"
      },
      "outputs": [
        {
          "output_type": "stream",
          "name": "stdout",
          "text": [
            "1 20\n",
            "3 7\n",
            "[20, 7]\n"
          ]
        }
      ],
      "source": [
        "q=0\n",
        "a=[]\n",
        "mylist=[10,20,4,7,5,12]\n",
        "for i in mylist:\n",
        "  q+=1  #mylist in place of q\n",
        "for i in range(0,q-1):\n",
        "  if(mylist[i]>mylist[i+1]):\n",
        "    a.append(mylist[i])\n",
        "    print(i,mylist[i])\n",
        "print(a)"
      ]
    },
    {
      "cell_type": "code",
      "source": [
        "temp=0\n",
        "mylist=[10,20,4,70,500,12,850]\n",
        "max=mylist[0]\n",
        "for j in range(1,len(mylist)):\n",
        "  if(mylist[j]>max):\n",
        "    max=mylist[j]\n",
        "  # else:\n",
        "  #   temp=mylist[i]\n",
        "  #   mylist[i]=mylist[j]\n",
        "  #   mylist[j]=temp\n",
        "  #  print(mylist)\n",
        "\n",
        "print(max)\n"
      ],
      "metadata": {
        "colab": {
          "base_uri": "https://localhost:8080/"
        },
        "id": "LiSdL_s7jqgk",
        "outputId": "8d37e8b3-75ee-4a41-a943-46010464c3bc"
      },
      "execution_count": 65,
      "outputs": [
        {
          "output_type": "stream",
          "name": "stdout",
          "text": [
            "850\n"
          ]
        }
      ]
    },
    {
      "cell_type": "code",
      "source": [
        "mylist=[10,30,50,70,60,100]\n",
        "for i in range(0,len(mylist)):\n",
        "  for j in range(i+1,len(mylist)):\n",
        "    if(mylist[i]>mylist[j]):\n",
        "      print(mylist[i])"
      ],
      "metadata": {
        "colab": {
          "base_uri": "https://localhost:8080/"
        },
        "id": "vNMXvPSVpZ-q",
        "outputId": "c87960ae-96e5-4a78-843c-9ee91a6dbd7d"
      },
      "execution_count": 42,
      "outputs": [
        {
          "output_type": "stream",
          "name": "stdout",
          "text": [
            "70\n"
          ]
        }
      ]
    },
    {
      "cell_type": "code",
      "source": [
        "list2=[10,30,50,70,60,100]\n",
        "x=list2[0]\n",
        "y=0\n",
        "for i in range(0,len(list2)):\n",
        "  if(list2[i]>x):\n",
        "    y=x\n",
        "    x=list2[i]\n",
        "  elif(list2[i]>y):\n",
        "    y=list2[i]\n",
        "\n",
        "print(\"second highest\",y)"
      ],
      "metadata": {
        "colab": {
          "base_uri": "https://localhost:8080/"
        },
        "id": "JDjWTZv7sJdp",
        "outputId": "f60b6cc9-7067-44d6-a187-5c107bd07a2d"
      },
      "execution_count": 48,
      "outputs": [
        {
          "output_type": "stream",
          "name": "stdout",
          "text": [
            "second highest 70\n"
          ]
        }
      ]
    },
    {
      "cell_type": "code",
      "source": [
        "\n",
        "list3=[0,1,2,4,6,8,9,11]\n",
        "for i in range(0,len(list3)):\n",
        "  k=13\n",
        "  for j in range(i,len(list3)):\n",
        "    if(list3[i]+list3[j]==k):\n",
        "      print(list3[i],list3[j],list3[i]+list3[j])\n",
        "\n"
      ],
      "metadata": {
        "colab": {
          "base_uri": "https://localhost:8080/"
        },
        "id": "rJhN8llAu_zv",
        "outputId": "c7b989ce-a492-4fba-c886-46a0ede5b91d"
      },
      "execution_count": 55,
      "outputs": [
        {
          "output_type": "stream",
          "name": "stdout",
          "text": [
            "2 11 13\n",
            "4 9 13\n"
          ]
        }
      ]
    }
  ]
}