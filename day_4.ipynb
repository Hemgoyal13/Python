{
  "nbformat": 4,
  "nbformat_minor": 0,
  "metadata": {
    "colab": {
      "provenance": []
    },
    "kernelspec": {
      "name": "python3",
      "display_name": "Python 3"
    },
    "language_info": {
      "name": "python"
    }
  },
  "cells": [
    {
      "cell_type": "code",
      "execution_count": 1,
      "metadata": {
        "colab": {
          "base_uri": "https://localhost:8080/"
        },
        "id": "6sTkBZ8RFbu_",
        "outputId": "0c55d817-509d-4ef9-90a3-5daa6bc301be"
      },
      "outputs": [
        {
          "output_type": "stream",
          "name": "stdout",
          "text": [
            "e\n",
            "o\n",
            "a\n"
          ]
        }
      ],
      "source": [
        "data=\"hemgoyal\"\n",
        "for i in range(0,len(data)):\n",
        "  if(data[i]=='a' or data[i]=='e' or data[i]=='i' or data[i]=='o' or data[i]=='u'):\n",
        "    print(data[i])\n",
        ""
      ]
    },
    {
      "cell_type": "code",
      "source": [
        "data=\"hemgoyal\"\n",
        "for i in data:\n",
        "  if (i in \"aeiou\"):\n",
        "    print(i)"
      ],
      "metadata": {
        "colab": {
          "base_uri": "https://localhost:8080/"
        },
        "id": "Q-mfweGnFigd",
        "outputId": "565e3d29-e96e-4802-9e50-0108d2714806"
      },
      "execution_count": 2,
      "outputs": [
        {
          "output_type": "stream",
          "name": "stdout",
          "text": [
            "e\n",
            "o\n",
            "a\n"
          ]
        }
      ]
    },
    {
      "cell_type": "code",
      "source": [
        "\n",
        "data=\"hemgoyal\" #consonant\n",
        "count=0\n",
        "for i in data:\n",
        "  if(i not in \"aeiou\"):\n",
        "    count=count+1\n",
        "print(count)"
      ],
      "metadata": {
        "id": "7XaWp5W3FoUM",
        "outputId": "404c863e-f823-4e4d-99f9-c50ebe8da00b",
        "colab": {
          "base_uri": "https://localhost:8080/"
        }
      },
      "execution_count": 3,
      "outputs": [
        {
          "output_type": "stream",
          "name": "stdout",
          "text": [
            "5\n"
          ]
        }
      ]
    },
    {
      "cell_type": "code",
      "source": [
        "data = \"hemgoyal\"\n",
        "count=0\n",
        "for i in range(0,len(data)):\n",
        "  if(data[i]!='a' and data[i]!='e' and data[i]!='i' and data[i]!='o' and data[i]!='u'):\n",
        "    count=count+1\n",
        "print(count)"
      ],
      "metadata": {
        "id": "8eVdU1e2Fylq",
        "outputId": "14b7b25a-4302-4ace-c56e-4f120a9fb5f5",
        "colab": {
          "base_uri": "https://localhost:8080/"
        }
      },
      "execution_count": 4,
      "outputs": [
        {
          "output_type": "stream",
          "name": "stdout",
          "text": [
            "5\n"
          ]
        }
      ]
    },
    {
      "cell_type": "code",
      "source": [
        "a = \"hemgoyal\" #print first half\n",
        "for i in range(0,len(a)//2):\n",
        "  print(a[i])"
      ],
      "metadata": {
        "id": "1p85JH3mF5t4",
        "outputId": "725854fc-afbe-4bb6-db6b-c5f0ebe02012",
        "colab": {
          "base_uri": "https://localhost:8080/"
        }
      },
      "execution_count": 5,
      "outputs": [
        {
          "output_type": "stream",
          "name": "stdout",
          "text": [
            "h\n",
            "e\n",
            "m\n",
            "g\n"
          ]
        }
      ]
    },
    {
      "cell_type": "code",
      "source": [
        "for i in range(1,21):\n",
        "  if(i%3==0):\n",
        "    continue\n",
        "  else:\n",
        "    print(i)"
      ],
      "metadata": {
        "id": "QqSaTnqBF3fI",
        "outputId": "978ffa3b-ab96-4af1-e080-af571ee0570e",
        "colab": {
          "base_uri": "https://localhost:8080/"
        }
      },
      "execution_count": 7,
      "outputs": [
        {
          "output_type": "stream",
          "name": "stdout",
          "text": [
            "1\n",
            "2\n",
            "4\n",
            "5\n",
            "7\n",
            "8\n",
            "10\n",
            "11\n",
            "13\n",
            "14\n",
            "16\n",
            "17\n",
            "19\n",
            "20\n"
          ]
        }
      ]
    },
    {
      "cell_type": "code",
      "source": [
        "data=\"hemgoyal\"\n",
        "count=0\n",
        "for i in range(0,len(data)):\n",
        "  if(data[i]=='a' or data[i]=='e' or data[i]=='i' or data[i]=='o' or data[i]=='u'):\n",
        "    continue\n",
        "  else:\n",
        "    count+=1\n",
        "print(count)"
      ],
      "metadata": {
        "id": "ZAnruKV6GHh7",
        "outputId": "0aa46bac-885a-4135-92f7-6be521a924e8",
        "colab": {
          "base_uri": "https://localhost:8080/"
        }
      },
      "execution_count": 8,
      "outputs": [
        {
          "output_type": "stream",
          "name": "stdout",
          "text": [
            "5\n"
          ]
        }
      ]
    },
    {
      "cell_type": "code",
      "source": [
        "data=\"hemgoyal\"\n",
        "count=0\n",
        "for i in data:\n",
        "  if (i in \"aeiou\"):\n",
        "    continue\n",
        "  else:\n",
        "    count+=1\n",
        "print(count)"
      ],
      "metadata": {
        "id": "qWxgGnLSGQKL",
        "outputId": "a2bf7e13-d5de-4e26-8936-0c253f583c03",
        "colab": {
          "base_uri": "https://localhost:8080/"
        }
      },
      "execution_count": 9,
      "outputs": [
        {
          "output_type": "stream",
          "name": "stdout",
          "text": [
            "5\n"
          ]
        }
      ]
    },
    {
      "cell_type": "code",
      "source": [
        "#prime number\n",
        "x=7\n",
        "for i in range(2,x):\n",
        "  if(x%i==0):\n",
        "    print(\"not prime\")\n",
        "    break\n",
        "  else:\n",
        "    print(\"prime\")\n",
        "    break"
      ],
      "metadata": {
        "id": "OEPeEoH-GVqN",
        "outputId": "b2f2da48-3089-4b6e-e2ae-71e8a651a88e",
        "colab": {
          "base_uri": "https://localhost:8080/"
        }
      },
      "execution_count": 10,
      "outputs": [
        {
          "output_type": "stream",
          "name": "stdout",
          "text": [
            "prime\n"
          ]
        }
      ]
    },
    {
      "cell_type": "code",
      "source": [
        "num=7\n",
        "a=0\n",
        "for i in range(2,num):\n",
        "  if(num%i==0):\n",
        "    a=1 #if any number is divisible then it updates the value to 1\n",
        "    break\n",
        "\n",
        "#if value updatets then not a prime\n",
        "if(a==1):\n",
        "  print(\"not prime\")\n",
        "#if value remains 0 then it is a prime number\n",
        "else:\n",
        "  print(\"prime\")"
      ],
      "metadata": {
        "id": "O6r-wx-lGddo",
        "outputId": "d824c986-55cb-49e6-f9d1-90f0ba2c462b",
        "colab": {
          "base_uri": "https://localhost:8080/"
        }
      },
      "execution_count": 11,
      "outputs": [
        {
          "output_type": "stream",
          "name": "stdout",
          "text": [
            "prime\n"
          ]
        }
      ]
    },
    {
      "cell_type": "code",
      "source": [
        "\n",
        "#while loop\n",
        "i=1\n",
        "while(i<5):\n",
        "  print(i)\n",
        "  i+=1\n",
        "\n"
      ],
      "metadata": {
        "id": "nEXTXrYeGkzY",
        "outputId": "cc7e5d9f-c21f-4d9d-f7aa-11dbc4c5957d",
        "colab": {
          "base_uri": "https://localhost:8080/"
        }
      },
      "execution_count": 12,
      "outputs": [
        {
          "output_type": "stream",
          "name": "stdout",
          "text": [
            "1\n",
            "2\n",
            "3\n",
            "4\n"
          ]
        }
      ]
    },
    {
      "cell_type": "code",
      "source": [
        "x=1\n",
        "count=0\n",
        "while(x<100):\n",
        "  if(x%3==0):\n",
        "    print(x)\n",
        "    count+=1\n",
        "  x=x+1\n",
        "  if(count==5):\n",
        "      break\n",
        "\n",
        ""
      ],
      "metadata": {
        "id": "Qn2gDw0EGoPZ",
        "outputId": "581e4f7f-3152-413e-c9a8-eccc3958487a",
        "colab": {
          "base_uri": "https://localhost:8080/"
        }
      },
      "execution_count": 13,
      "outputs": [
        {
          "output_type": "stream",
          "name": "stdout",
          "text": [
            "3\n",
            "6\n",
            "9\n",
            "12\n",
            "15\n"
          ]
        }
      ]
    },
    {
      "cell_type": "code",
      "source": [
        "x=1\n",
        "count=0\n",
        "while(count<5):\n",
        "  if(x%3==0):\n",
        "    print(x)\n",
        "    count+=1\n",
        "  x=x+1"
      ],
      "metadata": {
        "id": "FlFEfJX6G1Ik",
        "outputId": "cc13246d-4a8a-4adc-8250-2dcb0a7cdb55",
        "colab": {
          "base_uri": "https://localhost:8080/"
        }
      },
      "execution_count": 14,
      "outputs": [
        {
          "output_type": "stream",
          "name": "stdout",
          "text": [
            "3\n",
            "6\n",
            "9\n",
            "12\n",
            "15\n"
          ]
        }
      ]
    },
    {
      "cell_type": "code",
      "source": [
        "# take a random number\n",
        "x=1\n",
        "total=0\n",
        "while(total<100): #till the total reach 100\n",
        "  total=total+x #add the last total value in the x\n",
        "  print(x) # print the values until the condition get false\n",
        "  x+=1 #increment the x by 1\n",
        "if(total>100): #if\n",
        "  total=total-x\n",
        "  x=x-1\n",
        "print(\"Total\",total)\n"
      ],
      "metadata": {
        "id": "0i8iyMIQG6n-",
        "outputId": "13095dc5-1782-41de-ff6f-ea445b7f16ca",
        "colab": {
          "base_uri": "https://localhost:8080/"
        }
      },
      "execution_count": 15,
      "outputs": [
        {
          "output_type": "stream",
          "name": "stdout",
          "text": [
            "1\n",
            "2\n",
            "3\n",
            "4\n",
            "5\n",
            "6\n",
            "7\n",
            "8\n",
            "9\n",
            "10\n",
            "11\n",
            "12\n",
            "13\n",
            "14\n",
            "Total 90\n"
          ]
        }
      ]
    }
  ]
}