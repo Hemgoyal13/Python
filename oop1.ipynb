{
 "cells": [
  {
   "cell_type": "code",
   "execution_count": 16,
   "id": "975a6cbf-29ec-41d6-a6b1-74b09688229d",
   "metadata": {},
   "outputs": [
    {
     "name": "stdout",
     "output_type": "stream",
     "text": [
      "<__main__.House_making object at 0x000001DA655CBB00>\n",
      "white\n",
      "6\n",
      "House info: white 6\n"
     ]
    }
   ],
   "source": [
    "# create our  first class \n",
    "# class House_making:\n",
    "#     color=\"white\"\n",
    "#     room=6\n",
    "#     def h_info(self):\n",
    "#         print(\"House info:\",self.color,self.room)\n",
    "        \n",
    "# # to create an object #object=classname()\n",
    "# h1=House_making()\n",
    "# print(h1)\n",
    "# print(h1.color) # . is used to accsess the characterstic\n",
    "# print(h1.room)\n",
    "# h1.h_info()\n",
    "\n"
   ]
  },
  {
   "cell_type": "code",
   "execution_count": 9,
   "id": "162c76a4-0e1b-4fc9-85a3-58be469edd35",
   "metadata": {},
   "outputs": [
    {
     "name": "stdout",
     "output_type": "stream",
     "text": [
      "red\n"
     ]
    }
   ],
   "source": [
    "h2=House_making()\n",
    "h2.color=\"red\"\n",
    "print(h2.color)"
   ]
  },
  {
   "cell_type": "code",
   "execution_count": 11,
   "id": "b4dacb2c-d955-4ddb-8035-cbc330667726",
   "metadata": {},
   "outputs": [
    {
     "name": "stdout",
     "output_type": "stream",
     "text": [
      "white red\n"
     ]
    }
   ],
   "source": [
    "print(h1.color ,h2.color)"
   ]
  },
  {
   "cell_type": "code",
   "execution_count": 17,
   "id": "19864d5b-fe7b-42e3-8f27-90f67275e578",
   "metadata": {},
   "outputs": [
    {
     "name": "stdout",
     "output_type": "stream",
     "text": [
      "Seablue\n"
     ]
    }
   ],
   "source": [
    "h3=House_making\n",
    "h3.color=\"Seablue\"\n",
    "print(h3.color)\n"
   ]
  },
  {
   "cell_type": "code",
   "execution_count": 19,
   "id": "4bb96839-ccac-4e5b-b34d-222e56d098cc",
   "metadata": {},
   "outputs": [
    {
     "name": "stdout",
     "output_type": "stream",
     "text": [
      "<__main__.House_making object at 0x000001DA655CBB00> <__main__.House_making object at 0x000001DA655CBA10> <class '__main__.House_making'>\n"
     ]
    }
   ],
   "source": [
    "print(h1,h2,h3)"
   ]
  },
  {
   "cell_type": "code",
   "execution_count": 26,
   "id": "56776b7b-beb2-497b-a75f-119fa732834c",
   "metadata": {},
   "outputs": [
    {
     "name": "stdout",
     "output_type": "stream",
     "text": [
      "mistri  <__main__.House_making object at 0x000001DA6670D760>\n",
      "<__main__.House_making object at 0x000001DA6670D760>\n"
     ]
    }
   ],
   "source": [
    "class House_making:\n",
    "   def __init__(self):\n",
    "        print(\"mistri \",self)\n",
    "\n",
    "#object=classname()\n",
    "h1=House_making()\n",
    "print(h1)"
   ]
  }
 ],
 "metadata": {
  "kernelspec": {
   "display_name": "Python 3 (ipykernel)",
   "language": "python",
   "name": "python3"
  },
  "language_info": {
   "codemirror_mode": {
    "name": "ipython",
    "version": 3
   },
   "file_extension": ".py",
   "mimetype": "text/x-python",
   "name": "python",
   "nbconvert_exporter": "python",
   "pygments_lexer": "ipython3",
   "version": "3.12.6"
  }
 },
 "nbformat": 4,
 "nbformat_minor": 5
}
