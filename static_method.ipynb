{
 "cells": [
  {
   "cell_type": "code",
   "execution_count": 7,
   "id": "071df698-19c6-4d40-9638-e4247f0fb91f",
   "metadata": {},
   "outputs": [
    {
     "name": "stdout",
     "output_type": "stream",
     "text": [
      "Name of the employee isSam and role no.is Frontenddevelpoer\n",
      "This is great Job\n"
     ]
    }
   ],
   "source": [
    "class Employee:\n",
    "    location = \"Jaipur\"\n",
    "\n",
    "    def __init__(self, name,role):\n",
    "        self.name=name\n",
    "        self.role=role\n",
    "\n",
    "    def getInfo(self):\n",
    "        print(f\"Name of the employee is{self.name} and role no.is {self.role}\")\n",
    "    @staticmethod\n",
    "    def NewInfo():\n",
    "        print(f\"This is great Job\")\n",
    "\n",
    "a=Employee(\"Sam\",\"Frontenddevelpoer\")\n",
    "a.getInfo()\n",
    "a.NewInfo()\n"
   ]
  },
  {
   "cell_type": "code",
   "execution_count": 4,
   "id": "f91bf25c-c55e-433c-8345-2e9cede9fe91",
   "metadata": {},
   "outputs": [
    {
     "name": "stdout",
     "output_type": "stream",
     "text": [
      "hello,Sam\n",
      "i am 10\n"
     ]
    }
   ],
   "source": [
    "class Parent:\n",
    "    def __init__(self,name):\n",
    "        self.name=name\n",
    "\n",
    "    def greet(self):\n",
    "        print(f\"hello,{self.name}\")\n",
    "\n",
    "class Child(Parent):\n",
    "    def __init__(self,name,age):\n",
    "        super().__init__(name)\n",
    "        self.age=age\n",
    "\n",
    "    def greet(self):\n",
    "        super().greet()\n",
    "        print(f\"i am {self.age}\")\n",
    "\n",
    "child=Child(\"Sam\",10)\n",
    "child.greet()"
   ]
  }
 ],
 "metadata": {
  "kernelspec": {
   "display_name": "Python 3 (ipykernel)",
   "language": "python",
   "name": "python3"
  },
  "language_info": {
   "codemirror_mode": {
    "name": "ipython",
    "version": 3
   },
   "file_extension": ".py",
   "mimetype": "text/x-python",
   "name": "python",
   "nbconvert_exporter": "python",
   "pygments_lexer": "ipython3",
   "version": "3.12.6"
  }
 },
 "nbformat": 4,
 "nbformat_minor": 5
}
