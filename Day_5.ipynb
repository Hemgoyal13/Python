{
  "nbformat": 4,
  "nbformat_minor": 0,
  "metadata": {
    "colab": {
      "provenance": []
    },
    "kernelspec": {
      "name": "python3",
      "display_name": "Python 3"
    },
    "language_info": {
      "name": "python"
    }
  },
  "cells": [
    {
      "cell_type": "code",
      "execution_count": 1,
      "metadata": {
        "colab": {
          "base_uri": "https://localhost:8080/"
        },
        "id": "ZYe--ioRIJJ2",
        "outputId": "3c1227e3-82b0-4518-b360-dd94c0377dc4"
      },
      "outputs": [
        {
          "output_type": "stream",
          "name": "stdout",
          "text": [
            "Enter Numbers10\n",
            "2\n",
            "3\n",
            "5\n",
            "7\n"
          ]
        }
      ],
      "source": [
        "# 16.Write a program to print all Prime numbers between 1 to n.\n",
        "#print 1 to n number prime number\n",
        "\n",
        "num=int(input(\"Enter Numbers\"))\n",
        "for i in range(2,num+1): #to check prime we will run our first from 2 because 1 is not prime in any case to the numbers entered\n",
        "        for j in range(2,i): #in second loop we are checking if i is divisible by j or not like first iteration which get i=2 and j=2 but 2 is prime we build logic that 2 will get exclude\n",
        "            if (i%j==0): #if i=3 and j=2 it will checks 3%2==0 false then second time i=3 but three get excluded because three is divisible and we are not checking if the number is divisible ny itself\n",
        "                break #now let say if i=4 and j==2 it will comes in loop and check 4%2==0 true then it willl break the inner loop\n",
        "        else: #nowe if inner loops if part like 5%2==0 doesnt get true then it will get back to inner loops else part not if else's else part\n",
        "          print(i)#print the num,ber which is no divisible by any other number\n",
        ""
      ]
    },
    {
      "cell_type": "code",
      "source": [
        "# 17.Write a program to find all prime factors of a number.\n",
        "\n",
        "num=int(input(\"Enter Numbers\"))\n",
        "for i in range(2,num+1):\n",
        "    if (num%i==0):\n",
        "        for j in range(2,i):\n",
        "            if (i%j==0):\n",
        "                break\n",
        "        else:\n",
        "            print(i)\n",
        ""
      ],
      "metadata": {
        "colab": {
          "base_uri": "https://localhost:8080/"
        },
        "id": "ePGzsw7tIOkn",
        "outputId": "e816e42f-e3fe-4c0b-daae-0b5b845d19e5"
      },
      "execution_count": 2,
      "outputs": [
        {
          "output_type": "stream",
          "name": "stdout",
          "text": [
            "Enter Numbers90\n",
            "2\n",
            "3\n",
            "5\n"
          ]
        }
      ]
    },
    {
      "cell_type": "code",
      "source": [
        "# 18.Write a program to check whether a number is an Armstrong number or not.\n",
        "# a. An Armstrong number is a n-digit number that is equal to the sum\n",
        "# of the nth power of its digits. For example –\n",
        "# 6 = 61 = 6\n",
        "# 371 = 33 + 73 + 13 = 371\n",
        "\n",
        "num=int(input(\"Enter Numbers:\"))\n",
        "power=len(str(num))\n",
        "sum=0\n",
        "temp=num\n",
        "while (num>0):\n",
        "  digit=num%10\n",
        "  sum+=digit**power\n",
        "  num=num//10\n",
        "if (temp==sum):\n",
        "  print(\"Armstrong\")\n",
        "else:\n",
        "  print(\"Not Armstrong\")\n",
        ""
      ],
      "metadata": {
        "colab": {
          "base_uri": "https://localhost:8080/"
        },
        "id": "zrW9WP6vI7UC",
        "outputId": "65d7385f-2032-4283-872c-9936d1aec488"
      },
      "execution_count": 3,
      "outputs": [
        {
          "output_type": "stream",
          "name": "stdout",
          "text": [
            "Enter Numbers:153\n",
            "Armstrong\n"
          ]
        }
      ]
    },
    {
      "cell_type": "code",
      "source": [
        "# 19.Write a program to check whether a number is Strong number or not\n",
        "# a. Strong number is a special number whose sum of factorial digits is\n",
        "# equal to the original number.\n",
        "# For example: 145 is a strong number. Since, 1! + 4! + 5! = 145\n",
        "\n",
        "num=int(input(\"Enter Numbers:\"))\n",
        "sum=0\n",
        "temp=num\n",
        "while (num>0):\n",
        "  digit=num%10\n",
        "  fact=1\n",
        "  for i in range(1,digit+1):\n",
        "    fact=fact*i\n",
        "  sum=sum+fact\n",
        "  num=num//10\n",
        "if (temp==sum):\n",
        "  print(sum,\"Strong\")\n",
        "else:\n",
        "  print(\"Not Strong\")"
      ],
      "metadata": {
        "colab": {
          "base_uri": "https://localhost:8080/"
        },
        "id": "aHMuCS0OJBCp",
        "outputId": "d99b5db0-e674-4f73-e954-63b5150ca0f1"
      },
      "execution_count": 4,
      "outputs": [
        {
          "output_type": "stream",
          "name": "stdout",
          "text": [
            "Enter Numbers:145\n",
            "145 Strong\n"
          ]
        }
      ]
    },
    {
      "cell_type": "code",
      "source": [
        "# 20.Write a program to check whether a number is perfect number or not\n",
        "\n",
        "# a. Perfect number is a positive integer which is equal to the sum of\n",
        "# its proper positive divisors.\n",
        "# For example: 6 is the first perfect number\n",
        "# Proper divisors of 6 are 1, 2, 3\n",
        "# Sum of its proper divisors = 1 + 2 + 3 = 6.\n",
        "# Hence 6 is a perfect number.\n",
        "\n",
        "\n",
        "num=int(input(\"Enter Numbers:\"))\n",
        "sum=0\n",
        "for i in range(1,num):\n",
        "  if (num%i==0):\n",
        "    sum=sum+i\n",
        "if(sum==num):\n",
        "  print(\"Perfect\")\n",
        "else:\n",
        "  print(\"Not Perfect\")"
      ],
      "metadata": {
        "colab": {
          "base_uri": "https://localhost:8080/"
        },
        "id": "uRgNQJWtJNKH",
        "outputId": "3f80a16b-401f-4113-997a-f72cd562b7c6"
      },
      "execution_count": 5,
      "outputs": [
        {
          "output_type": "stream",
          "name": "stdout",
          "text": [
            "Enter Numbers:6\n",
            "Perfect\n"
          ]
        }
      ]
    },
    {
      "cell_type": "code",
      "source": [
        "# 21.Write a program to print fibonacci series upto n terms\n",
        "# a. Fibonacci series is a series of numbers where the current number\n",
        "# is the sum of the previous two terms. For Example: 0, 1, 1, 2, 3, 5,\n",
        "# 8, 13, 21, ... , (n-1th + n-2th)\n",
        "\n",
        "\n",
        "num=int(input(\"Enter Numbers:\"))\n",
        "a=0\n",
        "b=1\n",
        "print(a)\n",
        "print(b)\n",
        "for i in range(1,num-1):\n",
        "  c=a+b\n",
        "  print(c)\n",
        "  a=b\n",
        "  b=c"
      ],
      "metadata": {
        "colab": {
          "base_uri": "https://localhost:8080/"
        },
        "id": "-isl9NJTJXFa",
        "outputId": "cb9b9730-3a8b-4211-d091-c9731264cb0c"
      },
      "execution_count": 6,
      "outputs": [
        {
          "output_type": "stream",
          "name": "stdout",
          "text": [
            "Enter Numbers:8\n",
            "0\n",
            "1\n",
            "1\n",
            "2\n",
            "3\n",
            "5\n",
            "8\n",
            "13\n"
          ]
        }
      ]
    },
    {
      "cell_type": "code",
      "source": [
        "\n",
        "# 22.Write a program to find ones complement of a binary number\n",
        "# a. One's complement of a binary number is defined as value\n",
        "# obtained by inverting all binary bits. It is the result of swapping all\n",
        "# 1s to 0s and all 0s to 1s.\n",
        "# 0110 1110 <---- Original Binary\n",
        "# 0110 1110 <---- One's Complement\n",
        "\n",
        "num=input(\"Enter Numbers:\")\n",
        "for dig in num:\n",
        "  if (dig==\"0\"):\n",
        "    print(\"1\",end=\"\")\n",
        "  else:\n",
        "    print(\"0\",end=\"\")\n",
        "\n",
        ""
      ],
      "metadata": {
        "colab": {
          "base_uri": "https://localhost:8080/"
        },
        "id": "nCnB2WdSJfdM",
        "outputId": "a7ee22ba-18ab-481e-dbdc-1dba6b6a03ce"
      },
      "execution_count": 10,
      "outputs": [
        {
          "output_type": "stream",
          "name": "stdout",
          "text": [
            "Enter Numbers:01101110\n",
            "10010001"
          ]
        }
      ]
    }
  ]
}