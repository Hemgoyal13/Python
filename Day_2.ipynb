{
  "nbformat": 4,
  "nbformat_minor": 0,
  "metadata": {
    "colab": {
      "provenance": []
    },
    "kernelspec": {
      "name": "python3",
      "display_name": "Python 3"
    },
    "language_info": {
      "name": "python"
    }
  },
  "cells": [
    {
      "cell_type": "code",
      "execution_count": null,
      "metadata": {
        "id": "ZjBI_z1o_1Sz"
      },
      "outputs": [],
      "source": [
        "\n",
        "#condition statement\n",
        "# 3 variable => minimum value out of the same"
      ]
    },
    {
      "cell_type": "code",
      "source": [
        "a=35\n",
        "if(a%2==0 ):\n",
        "  print(\"Hii\")\n",
        "elif(a%5==0):\n",
        "  print(\"Hello\")\n",
        "else:\n",
        "  print(\"Bye\")\n",
        ""
      ],
      "metadata": {
        "colab": {
          "base_uri": "https://localhost:8080/"
        },
        "id": "kwXAGvIDDwXe",
        "outputId": "8b82a7ae-01b7-44d0-aa8a-93b670f63063"
      },
      "execution_count": 1,
      "outputs": [
        {
          "output_type": "stream",
          "name": "stdout",
          "text": [
            "Hello\n"
          ]
        }
      ]
    },
    {
      "cell_type": "code",
      "source": [
        "age=int(input(\"Enter the value:\"))\n",
        "if(age>10 and age<18):\n",
        "  print(\"Child\")\n",
        "elif(age>18 and age<30):\n",
        "  print(\"Adult\")\n",
        "elif(age>30 and age<60):\n",
        "  print(\"Mature\")\n",
        "elif(age>60):\n",
        "  print(\"Old\")\n",
        "else:\n",
        "  print(\"infant\")"
      ],
      "metadata": {
        "colab": {
          "base_uri": "https://localhost:8080/"
        },
        "id": "3GbdVDcYDxtk",
        "outputId": "afbf5fb2-5c14-46d0-fa50-6155768d0231"
      },
      "execution_count": 2,
      "outputs": [
        {
          "output_type": "stream",
          "name": "stdout",
          "text": [
            "Enter the value:20\n",
            "Adult\n"
          ]
        }
      ]
    },
    {
      "cell_type": "code",
      "source": [
        "age=int(input(\"Enter the value:\"))\n",
        "if(age>5):\n",
        "  print(\"Aadhar Card Created\")\n",
        "  if(age>18):\n",
        "    print(\"Pan Card Created and Linked with Aadhar card\")\n",
        "  else:\n",
        "    print(\"Pan Card No Created Because Age is less tan 18\")\n",
        "else:\n",
        "  print(\"Aadhar Card No Created Because Age is less tan 5\")"
      ],
      "metadata": {
        "colab": {
          "base_uri": "https://localhost:8080/"
        },
        "id": "gjueqpJuD4QQ",
        "outputId": "6cb4a0c4-5a0d-43a9-be6c-17dd81f1b5f8"
      },
      "execution_count": 3,
      "outputs": [
        {
          "output_type": "stream",
          "name": "stdout",
          "text": [
            "Enter the value:30\n",
            "Aadhar Card Created\n",
            "Pan Card Created and Linked with Aadhar card\n"
          ]
        }
      ]
    },
    {
      "cell_type": "code",
      "source": [
        "num=int(input(\"Enter the value:\"))\n",
        "if(num%2==0):\n",
        "  if(num%3==0):\n",
        "    print(\"Number is divisible by 2 and 3\")\n",
        "  else:\n",
        "    print(\"Number is divisible by 2\")\n",
        "else:\n",
        "  print(\"number is not divisible \")\n",
        "\n"
      ],
      "metadata": {
        "colab": {
          "base_uri": "https://localhost:8080/"
        },
        "id": "3Sjx31XxD-P-",
        "outputId": "1548c8cd-fb11-4039-97da-a6adabe3ec78"
      },
      "execution_count": 5,
      "outputs": [
        {
          "output_type": "stream",
          "name": "stdout",
          "text": [
            "Enter the value:12\n",
            "Number is divisible by 2 and 3\n"
          ]
        }
      ]
    }
  ]
}