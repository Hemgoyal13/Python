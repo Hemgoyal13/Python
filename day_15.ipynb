{
  "cells": [
    {
      "cell_type": "code",
      "execution_count": 1,
      "metadata": {
        "id": "aBr258OEdEfX"
      },
      "outputs": [],
      "source": [
        "# lamda function\n",
        "# annoymous function means no name function\n",
        "# one line function\n",
        "# code readable"
      ]
    },
    {
      "cell_type": "code",
      "source": [
        "# lambda parameter : expression\n",
        "x=10\n",
        "y=lambda x : (x+1)\n",
        "y(10)"
      ],
      "metadata": {
        "colab": {
          "base_uri": "https://localhost:8080/"
        },
        "id": "ouDAbLwVRJGE",
        "outputId": "1fa6be7e-1cd2-40c5-c17c-1dee81ea5c49"
      },
      "execution_count": 2,
      "outputs": [
        {
          "output_type": "execute_result",
          "data": {
            "text/plain": [
              "11"
            ]
          },
          "metadata": {},
          "execution_count": 2
        }
      ]
    },
    {
      "cell_type": "code",
      "source": [
        "a= lambda x: x.split(\" \")"
      ],
      "metadata": {
        "id": "w_nj9nvtRNvg"
      },
      "execution_count": 5,
      "outputs": []
    },
    {
      "cell_type": "code",
      "source": [
        "# map , filter\n",
        "# __next__ function is used to retake the value\n",
        "# maps is a function that take value and return the value\n"
      ],
      "metadata": {
        "id": "NdGjwyxJRR8e"
      },
      "execution_count": null,
      "outputs": []
    },
    {
      "cell_type": "code",
      "source": [
        "def func(x):\n",
        "  return x**2\n",
        "func(10)"
      ],
      "metadata": {
        "colab": {
          "base_uri": "https://localhost:8080/"
        },
        "id": "RHu6uiqZRS6b",
        "outputId": "82608ba9-fd0c-4b06-ec90-f5aa2bb04837"
      },
      "execution_count": 6,
      "outputs": [
        {
          "output_type": "execute_result",
          "data": {
            "text/plain": [
              "100"
            ]
          },
          "metadata": {},
          "execution_count": 6
        }
      ]
    },
    {
      "cell_type": "code",
      "source": [
        "out=map(func,[10,20])\n",
        "next(out)\n",
        "next(out)\n",
        "\n"
      ],
      "metadata": {
        "colab": {
          "base_uri": "https://localhost:8080/"
        },
        "id": "BOmQQ9X_RV9E",
        "outputId": "9ad120c3-65a5-476b-fffd-8321fdfc9f21"
      },
      "execution_count": 7,
      "outputs": [
        {
          "output_type": "execute_result",
          "data": {
            "text/plain": [
              "400"
            ]
          },
          "metadata": {},
          "execution_count": 7
        }
      ]
    },
    {
      "cell_type": "code",
      "source": [
        "list(map(func,[10,20]))\n",
        ""
      ],
      "metadata": {
        "colab": {
          "base_uri": "https://localhost:8080/"
        },
        "id": "q341Y7-jRbLK",
        "outputId": "73e6f65d-9bb5-4ad6-a09c-4a109a6683d0"
      },
      "execution_count": 8,
      "outputs": [
        {
          "output_type": "execute_result",
          "data": {
            "text/plain": [
              "[100, 400]"
            ]
          },
          "metadata": {},
          "execution_count": 8
        }
      ]
    },
    {
      "cell_type": "code",
      "source": [
        "y=lambda x: x**2\n",
        "list(map(y,[10,20]))\n",
        ""
      ],
      "metadata": {
        "colab": {
          "base_uri": "https://localhost:8080/"
        },
        "id": "VPb_gUd8ReCk",
        "outputId": "059c1d79-459e-4719-ec8a-dd93ead58b69"
      },
      "execution_count": 9,
      "outputs": [
        {
          "output_type": "execute_result",
          "data": {
            "text/plain": [
              "[100, 400]"
            ]
          },
          "metadata": {},
          "execution_count": 9
        }
      ]
    },
    {
      "cell_type": "code",
      "source": [
        "# question\n",
        "# take a list of value and get only the even digit\n",
        "list1=list(filter(lambda x:x%2==0,[10,20,30,1,3,4,5,6,40,50]))\n",
        "print(list1)\n",
        "# map return the logic is true and false\n",
        "# filter return the argument if condition is true\n",
        "list2=list(map(lambda x:x%2==0,[10,20,30,1,3,4,5,6,40,50]))\n",
        "print(list2)\n",
        ""
      ],
      "metadata": {
        "colab": {
          "base_uri": "https://localhost:8080/"
        },
        "id": "2mIfUYTbRhhW",
        "outputId": "473034e6-ac0e-47fc-ae91-ad446a36845e"
      },
      "execution_count": 10,
      "outputs": [
        {
          "output_type": "stream",
          "name": "stdout",
          "text": [
            "[10, 20, 30, 4, 6, 40, 50]\n",
            "[True, True, True, False, False, True, False, True, True, True]\n"
          ]
        }
      ]
    },
    {
      "cell_type": "code",
      "source": [
        "# file handling\n",
        "# mahanism => we can store file and data\n",
        "# we can store the data inside the file which we can asscess when we want it\n",
        "# we can only read and write data in it\n",
        "\n"
      ],
      "metadata": {
        "id": "bv29pjMkRkIt"
      },
      "execution_count": null,
      "outputs": []
    },
    {
      "cell_type": "code",
      "source": [
        "# STEP 1 open file we use asscess mode\n",
        "# STEP 2 read and write\n",
        "# STEP 3 close the file\n"
      ],
      "metadata": {
        "id": "FrjWEtRqRm6M"
      },
      "execution_count": null,
      "outputs": []
    },
    {
      "cell_type": "code",
      "execution_count": null,
      "metadata": {
        "colab": {
          "background_save": true
        },
        "id": "votP-HGLeY9k"
      },
      "outputs": [],
      "source": [
        "# map, filter\n",
        "#[10,20,30,40,55,61]\n",
        "#map=it takes each element at a time and return the value , the value is not store in it\n"
      ]
    },
    {
      "cell_type": "code",
      "source": [
        "fileobj=open(\"pjain.txt\")\n",
        "a_data=fileobj.read()\n",
        "fileobj.close()"
      ],
      "metadata": {
        "id": "H0Lx9UklRqKc"
      },
      "execution_count": null,
      "outputs": []
    },
    {
      "cell_type": "code",
      "source": [
        "fileobj=open(\"pjain.txt\")\n",
        "a_data=fileobj.write(\"ssf\")\n",
        "print(a_data)\n",
        "fileobj.close()"
      ],
      "metadata": {
        "id": "Fa7JbY1DRr6H"
      },
      "execution_count": null,
      "outputs": []
    }
  ],
  "metadata": {
    "colab": {
      "provenance": []
    },
    "kernelspec": {
      "display_name": "Python 3",
      "name": "python3"
    },
    "language_info": {
      "name": "python"
    }
  },
  "nbformat": 4,
  "nbformat_minor": 0
}