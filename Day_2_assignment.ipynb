{
  "nbformat": 4,
  "nbformat_minor": 0,
  "metadata": {
    "colab": {
      "provenance": []
    },
    "kernelspec": {
      "name": "python3",
      "display_name": "Python 3"
    },
    "language_info": {
      "name": "python"
    }
  },
  "cells": [
    {
      "cell_type": "code",
      "execution_count": null,
      "metadata": {
        "colab": {
          "base_uri": "https://localhost:8080/"
        },
        "id": "Woyz_TkBasnK",
        "outputId": "dcf8e7ee-6c1b-412a-eff2-921d629e5fc7"
      },
      "outputs": [
        {
          "output_type": "stream",
          "name": "stdout",
          "text": [
            "enter the number3\n",
            "odd number\n"
          ]
        }
      ],
      "source": [
        "#Q1 Write a program that takes an integer input from the user and checks whether the number is odd or\n",
        "#even.\n",
        "\n",
        "a=int(input(\"enter the number\"))\n",
        "if(a%2==0):\n",
        "    print(\"even number\")\n",
        "else:\n",
        "    print(\"odd number\")\n"
      ]
    },
    {
      "cell_type": "code",
      "source": [],
      "metadata": {
        "id": "UjxE4nOgYHHl"
      },
      "execution_count": null,
      "outputs": []
    },
    {
      "cell_type": "code",
      "source": [
        "#Q2 Write a program that takes three numbers as input and prints the largest of the three.\n",
        "\n",
        "a=int(input(\"enter the number\"))\n",
        "b=int(input(\"enter the number\"))\n",
        "c=int(input(\"enter the number\"))\n",
        "\n",
        "if(a>b):\n",
        "  print(\"a is greater\")\n",
        "elif(b>c):\n",
        "  print(\"b is greater\")\n",
        "else:\n",
        "  print(\"c is greater\")"
      ],
      "metadata": {
        "colab": {
          "base_uri": "https://localhost:8080/"
        },
        "id": "EHkS8O_Gbtje",
        "outputId": "092034b1-3658-4316-d69c-c700c2b7658a"
      },
      "execution_count": null,
      "outputs": [
        {
          "output_type": "stream",
          "name": "stdout",
          "text": [
            "enter the number100\n",
            "enter the number40\n",
            "enter the number50\n",
            "a is greater\n"
          ]
        }
      ]
    },
    {
      "cell_type": "code",
      "source": [
        "#Q3 Write a program to check if a given year is a leap year. A leap year is divisible by 4 but not by 100\n",
        "#unless it is also divisible by 400.\n",
        "\n",
        "a=int(input(\"enter the year\"))\n",
        "if((a%4==0 or a%100!=0) or a%400==0):\n",
        "  print(\"leap year\")\n",
        "else:\n",
        "  print(\"not a leap year\")\n",
        "\n"
      ],
      "metadata": {
        "colab": {
          "base_uri": "https://localhost:8080/"
        },
        "id": "raeiL-hfdfro",
        "outputId": "317c5529-f3f1-4d91-e726-4c7219da05cf"
      },
      "execution_count": null,
      "outputs": [
        {
          "output_type": "stream",
          "name": "stdout",
          "text": [
            "enter the year2016\n",
            "leap year\n"
          ]
        }
      ]
    },
    {
      "cell_type": "code",
      "source": [
        "#Q4 Write a program that takes a percentage (integer) as input and prints the corresponding grade based\n",
        "#on the following criteria:\n",
        "#>= 90: Grade A\n",
        "#>= 80: Grade B\n",
        "#>= 70: Grade C\n",
        "#>= 60: Grade D\n",
        "#< 60: Grade F\n",
        "\n",
        "a=int(input(\"enter your percentage\"))\n",
        "\n",
        "if(a>=90):\n",
        "  print(\"grade A\")\n",
        "elif(a>=80):\n",
        "  print(\"grade B\")\n",
        "elif(a>=70):\n",
        "  print(\"grade C\")\n",
        "elif(a>=60):\n",
        "  print(\"grade D\")\n",
        "elif(a<60):\n",
        "  print(\"grade F\")\n",
        "else:\n",
        "  print(\"better luck next time\")"
      ],
      "metadata": {
        "colab": {
          "base_uri": "https://localhost:8080/"
        },
        "id": "gDmxEFKGYLjr",
        "outputId": "3a5a85c3-0fe9-490a-bc3e-92ab9268b489"
      },
      "execution_count": null,
      "outputs": [
        {
          "output_type": "stream",
          "name": "stdout",
          "text": [
            "enter your percentage82\n",
            "grade B\n"
          ]
        }
      ]
    },
    {
      "cell_type": "markdown",
      "source": [
        "#Q5 Write a program that checks if a given letter is a vowel (a, e, i, o, u) or a consonant.\n",
        "\n",
        "a=input(\"enter the character:= \")\n",
        "\n",
        "if(a=='a' or a=='e' or a=='i' or a=='o' or a=='u'):\n",
        "  print(\"vowel\")\n",
        "else:\n",
        "  print(\"constant\")\n"
      ],
      "metadata": {
        "id": "u57G8Debapgk"
      }
    },
    {
      "cell_type": "code",
      "source": [
        "a=input(\"enter the character:= \")\n",
        "\n",
        "if(a=='a' or a=='e' or a=='i' or a=='o' or a=='u'):\n",
        "  print(\"vowel\")\n",
        "else:\n",
        "  print(\"constant\")\n"
      ],
      "metadata": {
        "colab": {
          "base_uri": "https://localhost:8080/"
        },
        "id": "E5byKlpXUacw",
        "outputId": "43ee67b5-de10-4eff-8d41-64d5b2722539"
      },
      "execution_count": null,
      "outputs": [
        {
          "output_type": "stream",
          "name": "stdout",
          "text": [
            "enter the character:= r\n",
            "constant\n"
          ]
        }
      ]
    },
    {
      "cell_type": "code",
      "source": [
        "#Q6 Write a basic calculator program that takes two numbers and an operator (+, -, *, /) as input and\n",
        "#performs the specified operation. Print the result based on the operation.\n",
        "\n",
        "a=int(input(\"enter the1st number \"))\n",
        "b=int(input(\"enter the 2nd number\"))\n",
        "c=input(\"enter the operation you want to perform(+,-,*,/):=\")\n",
        "\n",
        "if(c=='+'):\n",
        "  d=a+b\n",
        "  print(\"Addition of two numbers is:=\",d)\n",
        "elif(c=='-'):\n",
        "  d=a-b\n",
        "  print(\"Subtraction of two number is:=\",d)\n",
        "elif(c=='*'):\n",
        "  d=a*b\n",
        "  print(\"multiplication of two number is:=\",d)\n",
        "elif(c=='/'):\n",
        "  d=a/b\n",
        "  print(\"division of two number is:=\",d)\n",
        "else:\n",
        "  print(\"you enter the wrong number\")"
      ],
      "metadata": {
        "colab": {
          "base_uri": "https://localhost:8080/"
        },
        "id": "vpcSnm24U72C",
        "outputId": "8e4d9583-29cb-4e10-814f-37c3b7a278d2"
      },
      "execution_count": null,
      "outputs": [
        {
          "output_type": "stream",
          "name": "stdout",
          "text": [
            "enter the number30\n",
            "enter the number10\n",
            "enter the operation you want to perform(+,-,*,/):=-\n",
            "Subtraction of two number is:= 20\n"
          ]
        }
      ]
    },
    {
      "cell_type": "code",
      "source": [
        "#Q7 Write a program that takes a number as input and checks whether it is positive, negative, or zero.\n",
        "a=int(input(\"enter the number:= \"))\n",
        "\n",
        "if(a>0):\n",
        "  print(\"positive number\")\n",
        "elif(a<0):\n",
        "  print(\"negative number\")\n",
        "elif(a==0):\n",
        "  print(\"Zero\")\n",
        "else:\n",
        "  print(\"please enter number\")"
      ],
      "metadata": {
        "colab": {
          "base_uri": "https://localhost:8080/"
        },
        "id": "ySjt4n_BXBRx",
        "outputId": "7a331000-52b5-486c-b9c2-312b61b632fe"
      },
      "execution_count": null,
      "outputs": [
        {
          "output_type": "stream",
          "name": "stdout",
          "text": [
            "enter the number:= 0\n",
            "Zero\n"
          ]
        }
      ]
    },
    {
      "cell_type": "code",
      "source": [
        "#Q8 Write a program that checks if a username and password entered by the user match the pre-set values\n",
        "#username = \"admin\" and password = \"1234\". If both match, print \"Login Successful\", otherwise print\n",
        "#\"Login Failed\".\n",
        "\n",
        "u=input(\"Entet the username:= \")\n",
        "p=int(input(\"enter the password\"))\n",
        "if(u==\"admin\" and p==1234):\n",
        "  print(\"Login successful\")\n",
        "else:\n",
        "   print(\"login failed\")"
      ],
      "metadata": {
        "colab": {
          "base_uri": "https://localhost:8080/"
        },
        "id": "D6oKdXRuYHjS",
        "outputId": "77507bc4-a415-49a5-f6b1-22e4454c311e"
      },
      "execution_count": null,
      "outputs": [
        {
          "output_type": "stream",
          "name": "stdout",
          "text": [
            "Entet the username:= admin\n",
            "enter the password1234\n",
            "Login successful\n"
          ]
        }
      ]
    },
    {
      "cell_type": "code",
      "source": [
        "#Q9 Write a program that takes three sides of a triangle as input and checks if those sides form a valid\n",
        "#triangle. A triangle is valid if the sum of any two sides is greater than the third side.\n",
        "#Check conditions like a + b > c, b + c > a, and a + c > b.\n",
        "\n",
        "a=int(input(\"Ente the 1 side of the triangle\"))\n",
        "b=int(input(\"enter the 2 side of the triangle\"))\n",
        "c=int(input(\"enter the 3 side of the triangle\"))\n",
        "\n",
        "if(a+b>c and b+c>a and a+c>b):\n",
        "  print(\"valid triangle\")\n",
        "else:\n",
        "  print(\"not a valid triangle\")\n"
      ],
      "metadata": {
        "colab": {
          "base_uri": "https://localhost:8080/"
        },
        "id": "jmi1w2dbazYf",
        "outputId": "b06caeea-dbff-4d53-d49e-dd736fc4b182"
      },
      "execution_count": null,
      "outputs": [
        {
          "output_type": "stream",
          "name": "stdout",
          "text": [
            "Ente the 1 side of the triangle1\n",
            "enter the 2 side of the triangle5\n",
            "enter the 3 side of the triangle6\n",
            "not a valid triangle\n"
          ]
        }
      ]
    },
    {
      "cell_type": "code",
      "source": [
        "#Write a program that calculates the Body Mass Index (BMI) based on user input for weight (in\n",
        "#kilograms) and height (in meters). Then categorize the BMI into:\n",
        "#Underweight (BMI < 18.5)\n",
        "#Normal weight (18.5 <= BMI < 24.9)\n",
        "#Overweight (25 <= BMI < 29.9)\n",
        "#Obesity (BMI >= 30)\n",
        "#Use the formula: BMI = weight / (height ** 2)\n",
        "\n",
        "a=int(input(\"enter your weight:= \"))\n",
        "b=int(input(\"enter your height:=\"))\n",
        "\n",
        "BMI=a/(b**2)\n",
        "\n",
        "if(BMI<18.5):\n",
        "  print(\"underweight weight:\")\n",
        "elif(18.5 <= BMI < 24.9):\n",
        "  print(\"normal weight\")\n",
        "elif(25 <= BMI < 29.9):\n",
        "  print(\"overweight\")\n",
        "elif(BMI>=30):\n",
        "  print(\"Obesity\")\n"
      ],
      "metadata": {
        "colab": {
          "base_uri": "https://localhost:8080/"
        },
        "id": "UjF9qu00eh2v",
        "outputId": "12e99b06-3ec1-42f1-c438-98cc1aff72c7"
      },
      "execution_count": null,
      "outputs": [
        {
          "output_type": "stream",
          "name": "stdout",
          "text": [
            "enter your weight:= 84\n",
            "enter your height:=5\n",
            "underweight weight:\n"
          ]
        }
      ]
    },
    {
      "cell_type": "code",
      "source": [
        "#Q11 Write a program that calculates the discount for a product based on its price:\n",
        "#If price is greater than 1000, discount is 10%\n",
        "#If price is between 500 and 1000, discount is 5%\n",
        "#Otherwise, no discount\n",
        "#Print the final price after applying the discount.\n",
        "\n",
        "a=int(input(\"enter the price of the product that you buy:= \"))\n",
        "if(a>=500 and a<=1000):\n",
        "  print(\"you will get 5% discount:\")\n",
        "  c=a*5/100\n",
        "  d=a-c\n",
        "  print(\"final amount which you have to pay is:= \",d)\n",
        "elif(a>1000):\n",
        "  print(\"you will get 10% discount:\")\n",
        "  c=a*10/100\n",
        "  d=a-c\n",
        "  print(\"final amount which you have to pay is:= \",d)\n",
        "else:\n",
        "  print(\"no discount is allowed:\")\n",
        "\n"
      ],
      "metadata": {
        "colab": {
          "base_uri": "https://localhost:8080/"
        },
        "id": "ohcNva9egtL_",
        "outputId": "44547dae-69ba-41c2-8a44-1d24808d7596"
      },
      "execution_count": null,
      "outputs": [
        {
          "output_type": "stream",
          "name": "stdout",
          "text": [
            "enter the price of the product that you buy:= 1500\n",
            "you will get 10% discount:\n",
            "final amount which you have to pay is:=  1350.0\n"
          ]
        }
      ]
    },
    {
      "cell_type": "code",
      "source": [
        "#Q12 Write a program that takes the name of a month as input and prints the number of days in that\n",
        "#month. Consider leap years for February.\n",
        "a=input(\"enter the name of the month \")\n",
        "\n",
        "if(a==\"january\" or a==\"march\" or a==\"may\" or a==\"july\" or a==\"August\" or a==\"octuber\" or a==\"december\"):\n",
        "  print(\"31 days \")\n",
        "elif(a==\"february\"):\n",
        "  print(\"28 days or 29 days \")\n",
        "else:\n",
        "  print(\"30 days\")\n"
      ],
      "metadata": {
        "colab": {
          "base_uri": "https://localhost:8080/"
        },
        "id": "eQT87_VGko7g",
        "outputId": "35525ab6-f454-4ac5-d058-32ecd6fa26d6"
      },
      "execution_count": null,
      "outputs": [
        {
          "output_type": "stream",
          "name": "stdout",
          "text": [
            "enter the name of the monthmarch\n",
            "31 days \n"
          ]
        }
      ]
    },
    {
      "cell_type": "code",
      "source": [
        "#Q13 Write a program that simulates a simple ATM. The user should be able to:\n",
        "#Check balance\n",
        "#Deposit money\n",
        "#Withdraw money (ensure the balance doesn't go negative) Use an if-else structure to handle the user's\n",
        "#choices.\n",
        "\n",
        "a=int(input(\"enter your pin number:=\"))\n",
        "bal=10000\n",
        "\n",
        "if(a==1234):\n",
        "  b=int(input(\"enter the you want to deposit:=\"))\n",
        "  d=bal+b\n",
        "  print(\"your current balance is:= \",d)\n",
        "  e=int(input(\"enter the amount you want to withdraw:= \"))\n",
        "  f=d-e\n",
        "  print(\"amount after money withdrawn is:=\",f)\n",
        "\n",
        "else:\n",
        "  print(\"enter the valid id:\")\n",
        "\n"
      ],
      "metadata": {
        "colab": {
          "base_uri": "https://localhost:8080/"
        },
        "id": "0o5wmy_onla9",
        "outputId": "58dc91dd-2a8b-4fce-f425-faeb3fb51143"
      },
      "execution_count": null,
      "outputs": [
        {
          "output_type": "stream",
          "name": "stdout",
          "text": [
            "enter your pin number:=1234\n",
            "enter the you want to deposit:=2000\n",
            "your current balance is:=  12000\n",
            "enter the amount you want to withdraw:= 200\n",
            "amount after money withdrawn is:= 11800\n"
          ]
        }
      ]
    },
    {
      "cell_type": "code",
      "source": [
        "#Q14 Write a program that categorizes a given age into different groups:\n",
        "#Infant (0-1 year)\n",
        "#Toddler (2-4 years)\n",
        "#Child (5-12 years)\n",
        "#Teenager (13-19 years)\n",
        "#Adult (20-59 years)\n",
        "#Senior (60 years and above)\n",
        "\n",
        "a=int(input(\"enter your age:= \"))\n",
        "\n",
        "if(a<=1):\n",
        "  print(\"Infant\")\n",
        "elif(a>=2 and a<=4):\n",
        "  print(\"toddler\")\n",
        "elif(a>=5 and a<=12):\n",
        "  print(\"child\")\n",
        "elif(a>=13 and a<=19):\n",
        "  print(\"teenager\")\n",
        "elif(a>=20 and a<=59):\n",
        "  print(\"adult\")\n",
        "elif(a>60):\n",
        "  print(\"Senior\")\n",
        "else:\n",
        "  print(\"enter valid age:\")\n"
      ],
      "metadata": {
        "colab": {
          "base_uri": "https://localhost:8080/"
        },
        "id": "_Z6P0x32rib_",
        "outputId": "8d3b2985-7aec-4d63-fbf9-705643e82066"
      },
      "execution_count": null,
      "outputs": [
        {
          "output_type": "stream",
          "name": "stdout",
          "text": [
            "enter your age:= 4\n",
            "toddler\n"
          ]
        }
      ]
    },
    {
      "cell_type": "code",
      "source": [
        "#Q15 Write a program that takes an integer (1-7) as input and prints the corresponding day of the week (1\n",
        "#for Monday, 2 for Tuesday, etc.).\n",
        "\n",
        "a=int(input(\"enter the numbers between 1 to 7\"))\n",
        "\n",
        "if(a==1):\n",
        "  print(\"monday\")\n",
        "elif(a==2):\n",
        "  print(\"tuesday\")\n",
        "elif(a==3):\n",
        "  print(\"webnesday\")\n",
        "elif(a==4):\n",
        "  print(\"thrusday\")\n",
        "elif(a==5):\n",
        "  print(\"friday\")\n",
        "elif(a==6):\n",
        "  print(\"saturday\")\n",
        "elif(a==7):\n",
        "  print(\"sunday\")\n",
        "else:\n",
        "  print(\"you enter wrong number:\")\n"
      ],
      "metadata": {
        "colab": {
          "base_uri": "https://localhost:8080/"
        },
        "id": "vgvrzDceuU2t",
        "outputId": "ef7000e4-6a4c-49b6-d2f5-6b77af7cb871"
      },
      "execution_count": null,
      "outputs": [
        {
          "output_type": "stream",
          "name": "stdout",
          "text": [
            "enter the numbers between 1 to 77\n",
            "sunday\n"
          ]
        }
      ]
    },
    {
      "cell_type": "code",
      "source": [],
      "metadata": {
        "id": "U0x7As8tv804"
      },
      "execution_count": null,
      "outputs": []
    }
  ]
}