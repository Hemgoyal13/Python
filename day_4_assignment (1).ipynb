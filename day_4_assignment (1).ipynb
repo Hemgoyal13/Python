{
  "cells": [
    {
      "cell_type": "code",
      "execution_count": null,
      "metadata": {
        "colab": {
          "base_uri": "https://localhost:8080/"
        },
        "id": "O6xDVhA4H1c2",
        "outputId": "b8fecfbd-2482-4000-f815-dd71d6b7ade5"
      },
      "outputs": [
        {
          "name": "stdout",
          "output_type": "stream",
          "text": [
            "1\n",
            "2\n",
            "3\n",
            "4\n",
            "5\n",
            "6\n",
            "7\n",
            "8\n",
            "9\n",
            "10\n"
          ]
        }
      ],
      "source": [
        "#1. Write a program to print all natural numbers from 1 to n. – using while\n",
        "#loop\n",
        "n=10\n",
        "i=1\n",
        "while(i<=n):\n",
        "  print(i)\n",
        "  i+=1"
      ]
    },
    {
      "cell_type": "code",
      "execution_count": null,
      "metadata": {
        "colab": {
          "base_uri": "https://localhost:8080/"
        },
        "id": "t30DmrlUIi0I",
        "outputId": "90d54539-ee72-4b40-e2c4-876c3c2b93c1"
      },
      "outputs": [
        {
          "name": "stdout",
          "output_type": "stream",
          "text": [
            "10\n",
            "9\n",
            "8\n",
            "7\n",
            "6\n",
            "5\n",
            "4\n",
            "3\n",
            "2\n",
            "1\n"
          ]
        }
      ],
      "source": [
        "#2.Write a program to print all natural numbers in reverse (from n to 1). –\n",
        "#using while loop\n",
        "n=1\n",
        "i=10\n",
        "while(i>=n):\n",
        "  print(i)\n",
        "  i-=1"
      ]
    },
    {
      "cell_type": "code",
      "execution_count": null,
      "metadata": {
        "colab": {
          "base_uri": "https://localhost:8080/"
        },
        "id": "38BlKxWAI_3C",
        "outputId": "fb26b477-210e-4c4c-ebc0-3981252b8267"
      },
      "outputs": [
        {
          "name": "stdout",
          "output_type": "stream",
          "text": [
            "a\n",
            "b\n",
            "c\n",
            "d\n",
            "e\n",
            "f\n",
            "g\n",
            "h\n",
            "i\n",
            "j\n",
            "k\n",
            "l\n",
            "m\n",
            "n\n",
            "o\n",
            "p\n",
            "q\n",
            "r\n",
            "s\n",
            "t\n",
            "u\n",
            "v\n",
            "w\n",
            "x\n",
            "y\n",
            "z\n"
          ]
        }
      ],
      "source": [
        "#3.Write a program to print all alphabets from a to z. – using while loop\n",
        "\n",
        "\n",
        "ch='a'\n",
        "while(ch<='z'):\n",
        "  print(ch)\n",
        "  ch=chr(ord(ch)+1)"
      ]
    },
    {
      "cell_type": "code",
      "execution_count": null,
      "metadata": {
        "colab": {
          "base_uri": "https://localhost:8080/"
        },
        "id": "u_8k1AWBLBlh",
        "outputId": "db88993c-3432-4b21-9309-69bd95275a83"
      },
      "outputs": [
        {
          "name": "stdout",
          "output_type": "stream",
          "text": [
            "2\n",
            "4\n",
            "6\n",
            "8\n",
            "10\n",
            "12\n",
            "14\n",
            "16\n",
            "18\n",
            "20\n",
            "22\n",
            "24\n",
            "26\n",
            "28\n",
            "30\n",
            "32\n",
            "34\n",
            "36\n",
            "38\n",
            "40\n",
            "42\n",
            "44\n",
            "46\n",
            "48\n",
            "50\n",
            "52\n",
            "54\n",
            "56\n",
            "58\n",
            "60\n",
            "62\n",
            "64\n",
            "66\n",
            "68\n",
            "70\n",
            "72\n",
            "74\n",
            "76\n",
            "78\n",
            "80\n",
            "82\n",
            "84\n",
            "86\n",
            "88\n",
            "90\n",
            "92\n",
            "94\n",
            "96\n",
            "98\n",
            "100\n"
          ]
        }
      ],
      "source": [
        "#4.Write a program to print all even numbers between 1 to 100. – using\n",
        "#while loop\n",
        "\n",
        "n=100\n",
        "i=1\n",
        "while(i<=n):\n",
        "  if(i%2==0):\n",
        "   print(i)\n",
        "\n",
        "  i+=1"
      ]
    },
    {
      "cell_type": "code",
      "execution_count": null,
      "metadata": {
        "colab": {
          "base_uri": "https://localhost:8080/"
        },
        "id": "0fB02fjELz72",
        "outputId": "518ec60b-3988-412d-a490-d661ab1e1ff1"
      },
      "outputs": [
        {
          "name": "stdout",
          "output_type": "stream",
          "text": [
            "sum of number is:= 25\n"
          ]
        }
      ],
      "source": [
        "#5.Write a program to find the sum of all odd numbers between 1 to n.\n",
        "\n",
        "n=10\n",
        "i=1\n",
        "sum=0\n",
        "while(i<=n):\n",
        "  if(i%2!=0):\n",
        "    sum+=i\n",
        "  i+=1\n",
        "\n",
        "print(\"sum of number is:=\",sum)\n"
      ]
    },
    {
      "cell_type": "code",
      "execution_count": null,
      "metadata": {
        "colab": {
          "base_uri": "https://localhost:8080/"
        },
        "id": "_mrDyqPUL406",
        "outputId": "9673f51a-f193-4712-b966-fe8cf5000972"
      },
      "outputs": [
        {
          "name": "stdout",
          "output_type": "stream",
          "text": [
            "5\n"
          ]
        }
      ],
      "source": [
        "#6.Write a program to count the number of digits in a number.\n",
        "\n",
        "n=12346\n",
        "i=1\n",
        "count=0\n",
        "while(i<n):\n",
        "  rem=n%10\n",
        "  count=count+1\n",
        "  n=n/10\n",
        "\n",
        "print(count)\n",
        "\n"
      ]
    },
    {
      "cell_type": "code",
      "execution_count": null,
      "metadata": {
        "colab": {
          "base_uri": "https://localhost:8080/"
        },
        "id": "l6fZZfyrQI3g",
        "outputId": "e3e96e56-8dc5-4356-e1f4-1d252f4c593c"
      },
      "outputs": [
        {
          "name": "stdout",
          "output_type": "stream",
          "text": [
            "16\n"
          ]
        }
      ],
      "source": [
        "#7.Write a program to calculate the sum of digits of a number.\n",
        "\n",
        "n=12346\n",
        "i=0\n",
        "sum=0\n",
        "while(i<n):\n",
        "  rem=n%10\n",
        "  sum=sum+rem\n",
        "  n=n//10\n",
        "\n",
        "print(sum)\n"
      ]
    },
    {
      "cell_type": "code",
      "source": [
        "#8.write a program to find the first and last digit of a number\n",
        "\n",
        "count=0\n",
        "rem=0\n",
        "num=int(input(\"enter the number\"))\n",
        "while(num>0):\n",
        "  rem=num%10\n",
        "  num=num//10\n",
        "  count=count+1\n",
        "  if(count==1):\n",
        "    print(\"last digit:\",rem)\n",
        "print(\"first digit:\",rem)"
      ],
      "metadata": {
        "colab": {
          "base_uri": "https://localhost:8080/"
        },
        "id": "7I3UPZI9CUG_",
        "outputId": "982068b7-9246-4797-ed5e-00196e3989e5"
      },
      "execution_count": null,
      "outputs": [
        {
          "output_type": "stream",
          "name": "stdout",
          "text": [
            "enter the number23456\n",
            "last digit: 6\n",
            "first digit: 2\n"
          ]
        }
      ]
    },
    {
      "cell_type": "code",
      "source": [
        "#9.write a program to find the sum of first and last digit of a number\n",
        "\n",
        "count=0\n",
        "rem=0\n",
        "num=int(input(\"enter the number\"))\n",
        "while(num>0):\n",
        "  rem=num%10\n",
        "  num=num//10\n",
        "  count=count+1\n",
        "  if(count==1):\n",
        "    #sum=sum+rem\n",
        "    print(\"last digit:\",rem)\n",
        "print(\"first digit:\",rem)\n",
        "\n",
        "sum=sum+rem\n",
        "print(\"sum of first and last:\",sum)"
      ],
      "metadata": {
        "colab": {
          "base_uri": "https://localhost:8080/",
          "height": 263
        },
        "id": "ZTfK2OzdDPPz",
        "outputId": "90496b85-78e9-4a71-8ed9-f507304f7fb3"
      },
      "execution_count": null,
      "outputs": [
        {
          "output_type": "stream",
          "name": "stdout",
          "text": [
            "enter the number12345\n",
            "last digit: 5\n",
            "first digit: 1\n"
          ]
        },
        {
          "output_type": "error",
          "ename": "TypeError",
          "evalue": "unsupported operand type(s) for +: 'builtin_function_or_method' and 'int'",
          "traceback": [
            "\u001b[0;31m---------------------------------------------------------------------------\u001b[0m",
            "\u001b[0;31mTypeError\u001b[0m                                 Traceback (most recent call last)",
            "\u001b[0;32m<ipython-input-6-8dc5d8910479>\u001b[0m in \u001b[0;36m<cell line: 15>\u001b[0;34m()\u001b[0m\n\u001b[1;32m     13\u001b[0m \u001b[0mprint\u001b[0m\u001b[0;34m(\u001b[0m\u001b[0;34m\"first digit:\"\u001b[0m\u001b[0;34m,\u001b[0m\u001b[0mrem\u001b[0m\u001b[0;34m)\u001b[0m\u001b[0;34m\u001b[0m\u001b[0;34m\u001b[0m\u001b[0m\n\u001b[1;32m     14\u001b[0m \u001b[0;34m\u001b[0m\u001b[0m\n\u001b[0;32m---> 15\u001b[0;31m \u001b[0msum\u001b[0m\u001b[0;34m=\u001b[0m\u001b[0msum\u001b[0m\u001b[0;34m+\u001b[0m\u001b[0mrem\u001b[0m\u001b[0;34m\u001b[0m\u001b[0;34m\u001b[0m\u001b[0m\n\u001b[0m\u001b[1;32m     16\u001b[0m \u001b[0mprint\u001b[0m\u001b[0;34m(\u001b[0m\u001b[0;34m\"sum of first and last:\"\u001b[0m\u001b[0;34m,\u001b[0m\u001b[0msum\u001b[0m\u001b[0;34m)\u001b[0m\u001b[0;34m\u001b[0m\u001b[0;34m\u001b[0m\u001b[0m\n",
            "\u001b[0;31mTypeError\u001b[0m: unsupported operand type(s) for +: 'builtin_function_or_method' and 'int'"
          ]
        }
      ]
    },
    {
      "cell_type": "code",
      "execution_count": null,
      "metadata": {
        "colab": {
          "base_uri": "https://localhost:8080/"
        },
        "id": "HYMi5SvzQ4jc",
        "outputId": "285c464f-11ce-4967-9e08-b24ac81c884d"
      },
      "outputs": [
        {
          "name": "stdout",
          "output_type": "stream",
          "text": [
            "54321\n"
          ]
        }
      ],
      "source": [
        "#10.Write a program to enter a number and print its reverse.\n",
        "\n",
        "a=12345\n",
        "sum=0\n",
        "while(0<a):\n",
        "  rem=a%10\n",
        "  sum=sum*10+rem\n",
        "  a=a//10\n",
        "print(sum)"
      ]
    },
    {
      "cell_type": "code",
      "execution_count": null,
      "metadata": {
        "colab": {
          "base_uri": "https://localhost:8080/"
        },
        "id": "gs2J5iHs37zW",
        "outputId": "8da6653c-807a-4bc9-8932-889f63bce236"
      },
      "outputs": [
        {
          "name": "stdout",
          "output_type": "stream",
          "text": [
            "ente the base := 2\n",
            "enter the exponanat:=3\n",
            "2base power 3 is 8\n"
          ]
        }
      ],
      "source": [
        "#11.Write a program to find the power of a number using for loop.\n",
        "\n",
        "a=int(input(\"ente the base := \"))\n",
        "b=int(input(\"enter the exponanat:=\"))\n",
        "result=1\n",
        "for i in range(b):\n",
        "  result=result*a\n",
        "\n",
        "print(f\"{a}base power {b} is\",result)"
      ]
    },
    {
      "cell_type": "code",
      "execution_count": null,
      "metadata": {
        "colab": {
          "base_uri": "https://localhost:8080/"
        },
        "id": "pFbnMnnH58m3",
        "outputId": "660bcc51-e46f-456a-d0a9-b7d27206be1e"
      },
      "outputs": [
        {
          "name": "stdout",
          "output_type": "stream",
          "text": [
            "entert the number:= 14\n",
            "factors of the number are:\n",
            "1\n",
            "2\n",
            "7\n",
            "14\n"
          ]
        }
      ],
      "source": [
        "#12.Write a program to find all factors of a number.\n",
        "\n",
        "num=int(input(\"entert the number:= \"))\n",
        "\n",
        "print(\"factors of the number are:\")\n",
        "\n",
        "for i in range(1, num+1):\n",
        "  if(num%i==0):\n",
        "    print(i)"
      ]
    },
    {
      "cell_type": "code",
      "execution_count": null,
      "metadata": {
        "colab": {
          "base_uri": "https://localhost:8080/"
        },
        "id": "6A1qqYqN8VAK",
        "outputId": "656e056e-10f0-43ea-dd92-6ade07a0f1b9"
      },
      "outputs": [
        {
          "name": "stdout",
          "output_type": "stream",
          "text": [
            "enter the number:= 5\n",
            "factorial is:= 120\n"
          ]
        }
      ],
      "source": [
        "#13. Write a program to calculate the factorial of a number.\n",
        "\n",
        "num=int(input(\"enter the number:= \"))\n",
        "\n",
        "fact=1\n",
        "for i in range(1,num+1):\n",
        "  fact=fact*i\n",
        "\n",
        "print(\"factorial is:=\",fact)"
      ]
    },
    {
      "cell_type": "code",
      "execution_count": null,
      "metadata": {
        "colab": {
          "base_uri": "https://localhost:8080/"
        },
        "id": "CXz-E7IY9gvb",
        "outputId": "5eadda08-73fc-4581-a549-8c5cda6647e7"
      },
      "outputs": [
        {
          "output_type": "stream",
          "name": "stdout",
          "text": [
            "enter the number:= 345\n",
            "entert the number:= 45\n",
            "LCM is greater:= 1035\n"
          ]
        }
      ],
      "source": [
        "#14.Write a program to find LCM of two numbers.\n",
        "\n",
        "num1=int(input(\"enter the number:= \"))\n",
        "num2=int(input(\"entert the number:= \"))\n",
        "\n",
        "if(num1>num2):\n",
        "  greater=num1\n",
        "  lower=num2\n",
        "else:\n",
        "  greater=num2\n",
        "  lower=num1\n",
        "\n",
        "while(True):\n",
        "  if(greater%num1==0 and greater%num2==0):\n",
        "    print(\"LCM is greater:=\",greater)\n",
        "    break\n",
        "  greater+=1\n",
        "\n"
      ]
    },
    {
      "cell_type": "code",
      "source": [
        "#15.Write a program to check whether a number is Prime number or not.\n",
        "\n",
        "num=int(input(\"Enter Number:\"))\n",
        "a=0\n",
        "for i in range(2,num):\n",
        "  if(num%i==0):\n",
        "    a=1\n",
        "    break\n",
        "if(a==1):\n",
        "  print(\"Not Prime\")\n",
        "else:\n",
        "  print(\"Prime\")"
      ],
      "metadata": {
        "id": "oUmiZ0iNEtoP"
      },
      "execution_count": null,
      "outputs": []
    }
  ],
  "metadata": {
    "colab": {
      "provenance": []
    },
    "kernelspec": {
      "display_name": "Python 3",
      "name": "python3"
    },
    "language_info": {
      "name": "python"
    }
  },
  "nbformat": 4,
  "nbformat_minor": 0
}