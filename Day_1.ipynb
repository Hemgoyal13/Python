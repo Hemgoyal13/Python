{
  "nbformat": 4,
  "nbformat_minor": 0,
  "metadata": {
    "colab": {
      "provenance": []
    },
    "kernelspec": {
      "name": "python3",
      "display_name": "Python 3"
    },
    "language_info": {
      "name": "python"
    }
  },
  "cells": [
    {
      "cell_type": "code",
      "execution_count": null,
      "metadata": {
        "id": "XKu7AKk6lwac"
      },
      "outputs": [],
      "source": [
        "#Go to Browser --> Google Collab --> New NoteBook\n",
        "\n",
        "\n"
      ]
    },
    {
      "cell_type": "code",
      "source": [
        "#Installation Process of Python\n",
        "\n",
        "#Options:\n",
        "# 1. Install Python --> Install Code Editor(VS Code) --> Extension Of python in code editor\n",
        "\n",
        "#2 Install Annaconda --> Jupyter Notebook\n",
        "\n",
        "#3 Go to Browser --> Google Collab --> New NoteBook\n"
      ],
      "metadata": {
        "id": "cl6lj6Ay93Fv"
      },
      "execution_count": null,
      "outputs": []
    },
    {
      "cell_type": "code",
      "source": [
        "\n",
        "# Python --> Python is a General-purpose, interpreted programming language whihc was inventend in 1991 by Guido van Rossoum\n",
        "# python --version (for version checking)"
      ],
      "metadata": {
        "id": "4eaHJnDD96Vj"
      },
      "execution_count": null,
      "outputs": []
    },
    {
      "cell_type": "code",
      "source": [
        "# Fundamentals of python\n",
        "# 1. Variable\n",
        "# 2. Data Types\n",
        "# 3. input(),print()"
      ],
      "metadata": {
        "id": "DQPkz3gK99Ug"
      },
      "execution_count": null,
      "outputs": []
    },
    {
      "cell_type": "code",
      "source": [
        "# 1. Variables --> It is a container in which we will store or assign\n",
        "a= 56\n",
        "b='sam'\n",
        "c=78.48\n",
        "\n",
        "#a,b,c are variables"
      ],
      "metadata": {
        "id": "bc3u2yJ9-B0Z"
      },
      "execution_count": null,
      "outputs": []
    },
    {
      "cell_type": "code",
      "source": [
        "#Global Variables --> Entirely modify\n",
        "#Local Variable --> modify and used in a block of code\n"
      ],
      "metadata": {
        "id": "cnlmcqrh-CzE"
      },
      "execution_count": null,
      "outputs": []
    },
    {
      "cell_type": "code",
      "source": [
        "#2. Data Types -->\n",
        "#a. Integer --> 56,7,78,-87,-8\n",
        "#b. Float --> 45.5,5.66,-5.4,-3.32\n",
        "#c. String --> 'aaa',\"aaa\",'''aaa'''\n",
        "#d. Boolean ---> 56>5 -- True, 7>56 --- False"
      ],
      "metadata": {
        "id": "Pyhlenon-Fgy"
      },
      "execution_count": null,
      "outputs": []
    },
    {
      "cell_type": "code",
      "source": [
        "# type() --> It is used to check datatype of a varible\n"
      ],
      "metadata": {
        "id": "9VT6Z5Zj-INW"
      },
      "execution_count": null,
      "outputs": []
    },
    {
      "cell_type": "code",
      "source": [
        "type(56)"
      ],
      "metadata": {
        "colab": {
          "base_uri": "https://localhost:8080/"
        },
        "id": "qtiITcj8-K0S",
        "outputId": "183898b5-5d79-444b-9c0c-525070ae6122"
      },
      "execution_count": null,
      "outputs": [
        {
          "output_type": "execute_result",
          "data": {
            "text/plain": [
              "int"
            ]
          },
          "metadata": {},
          "execution_count": 1
        }
      ]
    },
    {
      "cell_type": "code",
      "source": [
        "\n",
        "type(56.6)\n"
      ],
      "metadata": {
        "colab": {
          "base_uri": "https://localhost:8080/"
        },
        "id": "9tYnDFa8-OCL",
        "outputId": "371515c5-a430-443e-b8d9-4e0f88f24915"
      },
      "execution_count": null,
      "outputs": [
        {
          "output_type": "execute_result",
          "data": {
            "text/plain": [
              "float"
            ]
          },
          "metadata": {},
          "execution_count": 2
        }
      ]
    },
    {
      "cell_type": "code",
      "source": [
        "type(56>6)"
      ],
      "metadata": {
        "colab": {
          "base_uri": "https://localhost:8080/"
        },
        "id": "xfwXwwHH-SYK",
        "outputId": "23769ab8-71f2-4e96-c6d2-29a20dfcdad7"
      },
      "execution_count": null,
      "outputs": [
        {
          "output_type": "execute_result",
          "data": {
            "text/plain": [
              "bool"
            ]
          },
          "metadata": {},
          "execution_count": 3
        }
      ]
    },
    {
      "cell_type": "code",
      "source": [
        "type('Hem goyal')"
      ],
      "metadata": {
        "colab": {
          "base_uri": "https://localhost:8080/"
        },
        "id": "yqBTx-G4-Xsh",
        "outputId": "7d289dab-094c-49f8-c944-e3a38c4d8308"
      },
      "execution_count": null,
      "outputs": [
        {
          "output_type": "execute_result",
          "data": {
            "text/plain": [
              "str"
            ]
          },
          "metadata": {},
          "execution_count": 4
        }
      ]
    },
    {
      "cell_type": "code",
      "source": [
        "#type-casting --> it is used to change types of values from one data type to another data type\n",
        "\n",
        "\n",
        "a = 67\n",
        "type(a)\n",
        "b = float(a)\n",
        "type(b)\n"
      ],
      "metadata": {
        "colab": {
          "base_uri": "https://localhost:8080/"
        },
        "id": "r0KvQsaI-dVp",
        "outputId": "97ad2b47-6d07-418f-8ca5-2bc3fd9178cf"
      },
      "execution_count": null,
      "outputs": [
        {
          "output_type": "execute_result",
          "data": {
            "text/plain": [
              "float"
            ]
          },
          "metadata": {},
          "execution_count": 5
        }
      ]
    },
    {
      "cell_type": "code",
      "source": [
        "# print()-- it is used to execute our queries on terminal\n",
        "\n",
        "\n",
        "a=1\n",
        "b=2\n",
        "print(a)\n",
        "print(\"First Line Completed\")\n",
        "print(b)\n"
      ],
      "metadata": {
        "colab": {
          "base_uri": "https://localhost:8080/"
        },
        "id": "6O_RSXuh-jS5",
        "outputId": "660cb033-f76d-4348-922b-bb038a11697d"
      },
      "execution_count": null,
      "outputs": [
        {
          "output_type": "stream",
          "name": "stdout",
          "text": [
            "1\n",
            "First Line Completed\n",
            "2\n"
          ]
        }
      ]
    },
    {
      "cell_type": "code",
      "source": [
        "a=1\n",
        "b=2\n",
        "c=a+b\n",
        "print(c)\n"
      ],
      "metadata": {
        "colab": {
          "base_uri": "https://localhost:8080/"
        },
        "id": "-RWK9prV-sNy",
        "outputId": "7697428a-f475-46d7-c78c-4acc2ed691eb"
      },
      "execution_count": null,
      "outputs": [
        {
          "output_type": "stream",
          "name": "stdout",
          "text": [
            "3\n"
          ]
        }
      ]
    },
    {
      "cell_type": "code",
      "source": [
        "a=\"1\"\n",
        "b=\"2\"\n",
        "c=a+b\n",
        "print(c)"
      ],
      "metadata": {
        "colab": {
          "base_uri": "https://localhost:8080/"
        },
        "id": "P_WIe0W5-uRg",
        "outputId": "075f1017-0b8e-4942-c874-df23cf0a2eca"
      },
      "execution_count": null,
      "outputs": [
        {
          "output_type": "stream",
          "name": "stdout",
          "text": [
            "12\n"
          ]
        }
      ]
    },
    {
      "cell_type": "code",
      "source": [
        "# input() --> This is pre-defined function of python, it takes queries from user and send it to the function,\n",
        "# its output is in string format by default.\n",
        "\n"
      ],
      "metadata": {
        "id": "avq-OH3p-yzY"
      },
      "execution_count": null,
      "outputs": []
    },
    {
      "cell_type": "code",
      "source": [
        "a=input(\"Enter First Number:\")\n",
        "b=input(\"Enter Second Number\")\n",
        "c=a+b\n",
        "c\n"
      ],
      "metadata": {
        "colab": {
          "base_uri": "https://localhost:8080/",
          "height": 70
        },
        "id": "Bt7WFD6u-5eg",
        "outputId": "cbeac03e-30b3-4410-9133-fc0bf879d94c"
      },
      "execution_count": null,
      "outputs": [
        {
          "name": "stdout",
          "output_type": "stream",
          "text": [
            "Enter First Number:2\n",
            "Enter Second Number2\n"
          ]
        },
        {
          "output_type": "execute_result",
          "data": {
            "text/plain": [
              "'22'"
            ],
            "application/vnd.google.colaboratory.intrinsic+json": {
              "type": "string"
            }
          },
          "metadata": {},
          "execution_count": 9
        }
      ]
    },
    {
      "cell_type": "code",
      "source": [
        "a=int(input(\"Enter First Number:\"))\n",
        "b=int(input(\"Enter Second Number\"))\n",
        "c=a+b\n",
        "c"
      ],
      "metadata": {
        "colab": {
          "base_uri": "https://localhost:8080/"
        },
        "id": "jOOTPysc--53",
        "outputId": "29b805a0-aa14-4fb0-de6c-e86443b5f0d2"
      },
      "execution_count": null,
      "outputs": [
        {
          "name": "stdout",
          "output_type": "stream",
          "text": [
            "Enter First Number:57\n",
            "Enter Second Number47\n"
          ]
        },
        {
          "output_type": "execute_result",
          "data": {
            "text/plain": [
              "104"
            ]
          },
          "metadata": {},
          "execution_count": 10
        }
      ]
    }
  ]
}