{
 "cells": [
  {
   "cell_type": "code",
   "execution_count": 3,
   "id": "d2822cef-d502-40f5-bf4c-402ca93bd94c",
   "metadata": {},
   "outputs": [],
   "source": [
    "#exeption handling\n",
    "#unwanted condition, situation\n",
    "# code => correct output\n"
   ]
  },
  {
   "cell_type": "code",
   "execution_count": 5,
   "id": "3a6b3cad-fc1d-4f15-a3d0-d3855ee63d03",
   "metadata": {},
   "outputs": [
    {
     "name": "stdout",
     "output_type": "stream",
     "text": [
      "hello\n"
     ]
    },
    {
     "ename": "NameError",
     "evalue": "name 'z' is not defined",
     "output_type": "error",
     "traceback": [
      "\u001b[1;31m---------------------------------------------------------------------------\u001b[0m",
      "\u001b[1;31mNameError\u001b[0m                                 Traceback (most recent call last)",
      "Cell \u001b[1;32mIn[5], line 2\u001b[0m\n\u001b[0;32m      1\u001b[0m \u001b[38;5;28mprint\u001b[39m(\u001b[38;5;124m\"\u001b[39m\u001b[38;5;124mhello\u001b[39m\u001b[38;5;124m\"\u001b[39m)\n\u001b[1;32m----> 2\u001b[0m \u001b[43mz\u001b[49m\u001b[38;5;241m+\u001b[39m\u001b[38;5;241m10\u001b[39m\n\u001b[0;32m      3\u001b[0m \u001b[38;5;28mprint\u001b[39m(\u001b[38;5;124m\"\u001b[39m\u001b[38;5;124mhey\u001b[39m\u001b[38;5;124m\"\u001b[39m)\n",
      "\u001b[1;31mNameError\u001b[0m: name 'z' is not defined"
     ]
    }
   ],
   "source": [
    "    print(\"hello\")\n",
    "    z+10\n",
    "    print(\"hey\")\n"
   ]
  },
  {
   "cell_type": "code",
   "execution_count": 12,
   "id": "dbdfdb7c-1581-4d30-99ca-37faff870b4e",
   "metadata": {},
   "outputs": [
    {
     "name": "stdout",
     "output_type": "stream",
     "text": [
      "hello\n",
      "error handel string index out of range\n"
     ]
    }
   ],
   "source": [
    "try:\n",
    "    print(\"hello\")\n",
    "    s=\"hey\"\n",
    "    s[5]\n",
    "    yy+5\n",
    "    z+10\n",
    "    \n",
    "    print(\"hey\")\n",
    "except (NameError,IndexError) as e:\n",
    "    print(\"error handel\",e)"
   ]
  },
  {
   "cell_type": "code",
   "execution_count": 13,
   "id": "3f5320fe-5d6f-432a-a36c-cb50e9a07618",
   "metadata": {},
   "outputs": [
    {
     "name": "stdout",
     "output_type": "stream",
     "text": [
      "hello\n",
      "error handel\n"
     ]
    }
   ],
   "source": [
    "try:\n",
    "    print(\"hello\")\n",
    "    z+10\n",
    "    print(\"hey\")\n",
    "except:\n",
    "    print(\"error handel\")"
   ]
  },
  {
   "cell_type": "code",
   "execution_count": 17,
   "id": "d05110cb-8a15-47b9-b92b-3768c78cfcfa",
   "metadata": {},
   "outputs": [
    {
     "name": "stdout",
     "output_type": "stream",
     "text": [
      "hello\n",
      "inner error string index out of range\n",
      "hey\n"
     ]
    }
   ],
   "source": [
    "#nested exception handling \n",
    "try:\n",
    "    print(\"hello\")\n",
    "    try:\n",
    "        s=\"hey\"\n",
    "        s[5]\n",
    "        yy+5\n",
    "        z+10\n",
    "    except (NameError,IndexError) as e:\n",
    "        print(\"inner error\",e)\n",
    "    print(\"hey\")\n",
    "except (NameError,IndexError) as e:\n",
    "    print(\"error handel\",e)"
   ]
  },
  {
   "cell_type": "code",
   "execution_count": 20,
   "id": "dae7e9ec-317b-4682-94d5-429cac438fb9",
   "metadata": {},
   "outputs": [
    {
     "name": "stdout",
     "output_type": "stream",
     "text": [
      "hello\n",
      "error handel string index out of range\n"
     ]
    }
   ],
   "source": [
    "try:\n",
    "    print(\"hello\")\n",
    "    s=\"hey\"\n",
    "    s[5]\n",
    "    yy+5\n",
    "    z+10\n",
    "    print(\"hey\")\n",
    "except (NameError,IndexError) as e:\n",
    "    print(\"error handel\",e)\n",
    "else:\n",
    "    print(\"else part\")"
   ]
  },
  {
   "cell_type": "code",
   "execution_count": 23,
   "id": "436b4614-0373-4903-9c89-88357750afb7",
   "metadata": {},
   "outputs": [
    {
     "name": "stdout",
     "output_type": "stream",
     "text": [
      "hello\n",
      "hey\n",
      "else part,no error in this code\n"
     ]
    }
   ],
   "source": [
    "# if there is no error in the exception part so we use else\n",
    "try:\n",
    "    print(\"hello\")\n",
    "    s=\"hey\"\n",
    "    s[1]\n",
    "  \n",
    "    print(\"hey\")\n",
    "except (NameError,IndexError) as e:\n",
    "    print(\"error handel\",e)\n",
    "else:\n",
    "    print(\"else part,no error in this code\")"
   ]
  },
  {
   "cell_type": "code",
   "execution_count": 26,
   "id": "4ccc3373-f48e-4e14-a917-7fe6b0d027c7",
   "metadata": {},
   "outputs": [
    {
     "name": "stdout",
     "output_type": "stream",
     "text": [
      "hello\n",
      "hey\n",
      "else part,no error in this code\n"
     ]
    }
   ],
   "source": [
    "# finally ia always execute\n",
    "try:\n",
    "    print(\"hello\")\n",
    "    s=\"hey\"\n",
    "    s[0]\n",
    "  \n",
    "    print(\"hey\")\n",
    "except (NameError,IndexError) as e:\n",
    "    print(\"error handel\",e)\n",
    "finally:\n",
    "    print(\"else part,no error in this code\")"
   ]
  },
  {
   "cell_type": "code",
   "execution_count": 31,
   "id": "90515bb4-16bb-4f0c-803e-232e401f60c2",
   "metadata": {},
   "outputs": [
    {
     "name": "stdout",
     "output_type": "stream",
     "text": [
      "welcome user\n"
     ]
    }
   ],
   "source": [
    "# rase\n",
    "age=18\n",
    "try:\n",
    "    if(age<18):\n",
    "        raise ValueError\n",
    "    else:\n",
    "        print(\"welcome user\")\n",
    "except ValueError:\n",
    "    print(\"Invalid age of the user\")"
   ]
  },
  {
   "cell_type": "code",
   "execution_count": null,
   "id": "64c01805-faa1-4981-b11e-2287d311d423",
   "metadata": {},
   "outputs": [],
   "source": [
    "age=18\n",
    "try:\n",
    "    if(age<18):\n",
    "        raise ValueError\n",
    "    else:\n",
    "        print(\"welcome user\")\n",
    "except ValueError:\n",
    "    print(\"Invalid age of the user\")"
   ]
  }
 ],
 "metadata": {
  "kernelspec": {
   "display_name": "Python 3 (ipykernel)",
   "language": "python",
   "name": "python3"
  },
  "language_info": {
   "codemirror_mode": {
    "name": "ipython",
    "version": 3
   },
   "file_extension": ".py",
   "mimetype": "text/x-python",
   "name": "python",
   "nbconvert_exporter": "python",
   "pygments_lexer": "ipython3",
   "version": "3.12.6"
  }
 },
 "nbformat": 4,
 "nbformat_minor": 5
}
