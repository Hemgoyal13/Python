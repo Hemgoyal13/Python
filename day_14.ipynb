{
  "nbformat": 4,
  "nbformat_minor": 0,
  "metadata": {
    "colab": {
      "provenance": []
    },
    "kernelspec": {
      "name": "python3",
      "display_name": "Python 3"
    },
    "language_info": {
      "name": "python"
    }
  },
  "cells": [
    {
      "cell_type": "code",
      "execution_count": 1,
      "metadata": {
        "id": "VgQZgZ4bTxCd"
      },
      "outputs": [],
      "source": [
        "#type of argumengt passing\n",
        "#required\n",
        "#positional\n",
        "#key word\n",
        "#default\n"
      ]
    },
    {
      "cell_type": "code",
      "source": [
        "def func(eid, name):\n",
        "  print(f\"eid\",eid,\"ename:\",name)\n"
      ],
      "metadata": {
        "id": "ubE0kylZUYIM"
      },
      "execution_count": 4,
      "outputs": []
    },
    {
      "cell_type": "code",
      "source": [
        "func(\"hem\",10)"
      ],
      "metadata": {
        "colab": {
          "base_uri": "https://localhost:8080/"
        },
        "id": "Q9_Eguy9VAwo",
        "outputId": "46829354-a111-48b8-faa1-943a12525c1b"
      },
      "execution_count": 6,
      "outputs": [
        {
          "output_type": "stream",
          "name": "stdout",
          "text": [
            "eid hem ename: 10\n"
          ]
        }
      ]
    },
    {
      "cell_type": "code",
      "source": [
        "def func(eid, name):\n",
        "  print(f\"eid\",eid,\"ename:\",name)"
      ],
      "metadata": {
        "id": "a7rkDyn4VVR5"
      },
      "execution_count": 7,
      "outputs": []
    },
    {
      "cell_type": "code",
      "source": [
        "func(name=\"hem\",eid=20)"
      ],
      "metadata": {
        "colab": {
          "base_uri": "https://localhost:8080/"
        },
        "id": "OG1c9yObVXRa",
        "outputId": "885b118f-b7ca-4801-9bc7-99918721a940"
      },
      "execution_count": 9,
      "outputs": [
        {
          "output_type": "stream",
          "name": "stdout",
          "text": [
            "eid 20 ename: hem\n"
          ]
        }
      ]
    },
    {
      "cell_type": "code",
      "source": [
        "#veriable length argument // a argument in which the lenght is veries according to the user inputs\n",
        "def func(*data):\n",
        "  print(data)\n"
      ],
      "metadata": {
        "id": "CrJWbz-8V70B"
      },
      "execution_count": 12,
      "outputs": []
    },
    {
      "cell_type": "code",
      "source": [
        "func(\"hem\",\"goyal\",13)\n",
        "func(30,40)"
      ],
      "metadata": {
        "colab": {
          "base_uri": "https://localhost:8080/"
        },
        "id": "tcyL9lHgV_nW",
        "outputId": "e095c8d1-bccb-4e9b-9678-9daf64c9e722"
      },
      "execution_count": 20,
      "outputs": [
        {
          "output_type": "stream",
          "name": "stdout",
          "text": [
            "('hem', 'goyal', 13)\n",
            "(30, 40)\n"
          ]
        }
      ]
    },
    {
      "cell_type": "code",
      "source": [
        "#keyword veriable lenght argument\n",
        "# *args and **kwargs\n",
        "\n",
        "def func1(**data):\n",
        "  print(data, type(data))"
      ],
      "metadata": {
        "id": "TjejBKb0WkI_"
      },
      "execution_count": 17,
      "outputs": []
    },
    {
      "cell_type": "code",
      "source": [
        "func1(eid=20,ename=\"hem goyal\")"
      ],
      "metadata": {
        "colab": {
          "base_uri": "https://localhost:8080/"
        },
        "id": "rtI6Zs6FW9P2",
        "outputId": "6fb668ac-374e-4359-cb6b-26ad78390237"
      },
      "execution_count": 18,
      "outputs": [
        {
          "output_type": "stream",
          "name": "stdout",
          "text": [
            "{'eid': 20, 'ename': 'hem goyal'} <class 'dict'>\n"
          ]
        }
      ]
    },
    {
      "cell_type": "code",
      "source": [
        "# first class function\n",
        "def func(num):\n",
        "  print(num+5)\n",
        "  return \"hello\"\n"
      ],
      "metadata": {
        "id": "FOpWL18vYNe7"
      },
      "execution_count": 25,
      "outputs": []
    },
    {
      "cell_type": "code",
      "source": [
        "y=func(20)\n",
        "print('y',y)"
      ],
      "metadata": {
        "colab": {
          "base_uri": "https://localhost:8080/"
        },
        "id": "Sh4MfaQ0Y30w",
        "outputId": "61c3254b-2f16-46e1-fdfa-e177f5164b75"
      },
      "execution_count": 26,
      "outputs": [
        {
          "output_type": "stream",
          "name": "stdout",
          "text": [
            "25\n",
            "y hello\n"
          ]
        }
      ]
    },
    {
      "cell_type": "code",
      "source": [
        "def func(num):\n",
        "  return num+5"
      ],
      "metadata": {
        "id": "HJXozuAEaXh7"
      },
      "execution_count": 27,
      "outputs": []
    },
    {
      "cell_type": "code",
      "source": [
        "func(10)"
      ],
      "metadata": {
        "colab": {
          "base_uri": "https://localhost:8080/"
        },
        "id": "C9zwDJy_Z5qt",
        "outputId": "2ab8bcef-dfe6-4a62-b4b5-7444be0611ab"
      },
      "execution_count": 28,
      "outputs": [
        {
          "output_type": "execute_result",
          "data": {
            "text/plain": [
              "15"
            ]
          },
          "metadata": {},
          "execution_count": 28
        }
      ]
    },
    {
      "cell_type": "code",
      "source": [
        "# Assigned to Variables: We can assign functions to variables.\n",
        "#Passed as Arguments: We can pass functions as arguments to other functions.\n",
        "#Returned from Functions: Functions can return other functions.\n",
        "#Stored in Data Structures: Functions can be stored in data structures such as lists, dictionaries, etc"
      ],
      "metadata": {
        "id": "Ijz9BfFsalJi"
      },
      "execution_count": 29,
      "outputs": []
    },
    {
      "cell_type": "code",
      "source": [
        "def func():\n",
        "  print(\"hello world\")\n",
        "\n",
        "x=func  # we have assign function to a veriable\n",
        "func()\n",
        "x()"
      ],
      "metadata": {
        "colab": {
          "base_uri": "https://localhost:8080/"
        },
        "id": "1A6KMifQbNtb",
        "outputId": "73ffe56c-4970-4bf4-aef2-b34fe7c2ba8d"
      },
      "execution_count": 34,
      "outputs": [
        {
          "output_type": "stream",
          "name": "stdout",
          "text": [
            "hello world\n",
            "hello world\n"
          ]
        }
      ]
    },
    {
      "cell_type": "code",
      "source": [
        "def square(num):\n",
        "  print(num**2)\n",
        "\n",
        "def cube(x,y):\n",
        "  print(\"cude\",x,y)\n",
        "\n",
        "cube(10,square(4))"
      ],
      "metadata": {
        "colab": {
          "base_uri": "https://localhost:8080/"
        },
        "id": "XWy6x_fYb5X8",
        "outputId": "6286d0a1-4bd8-4616-c414-1df3833a4075"
      },
      "execution_count": 39,
      "outputs": [
        {
          "output_type": "stream",
          "name": "stdout",
          "text": [
            "16\n",
            "cude 10 None\n"
          ]
        }
      ]
    },
    {
      "cell_type": "code",
      "source": [
        "def square(num):\n",
        "  print(num**2)\n",
        "\n",
        "def cube(x,y):\n",
        "  print(\"cude\",x,y)\n",
        "  y(4)\n",
        "\n",
        "cube(10,square) #it will return memory address"
      ],
      "metadata": {
        "colab": {
          "base_uri": "https://localhost:8080/"
        },
        "id": "fEdxj4lZdrQE",
        "outputId": "a87d5a7a-af8e-497f-e728-76d33e4f430f"
      },
      "execution_count": 42,
      "outputs": [
        {
          "output_type": "stream",
          "name": "stdout",
          "text": [
            "cude 10 <function square at 0x7f4ff8529800>\n",
            "16\n"
          ]
        }
      ]
    },
    {
      "cell_type": "code",
      "source": [
        "def square(num):\n",
        "  return (num**2)\n",
        "\n",
        "def cube(x,y):\n",
        "  print(\"cude\",x * y(x))\n",
        "\n",
        "cube(10,square) # if a function is passed as parameter  in another function is known as high order function\n",
        "                # all high order functions are first class function\n",
        "\n"
      ],
      "metadata": {
        "colab": {
          "base_uri": "https://localhost:8080/"
        },
        "id": "b4znzuGsdyTF",
        "outputId": "09bc0184-d61e-4e66-9a7d-abbbe559ff35"
      },
      "execution_count": 47,
      "outputs": [
        {
          "output_type": "stream",
          "name": "stdout",
          "text": [
            "cude 1000\n"
          ]
        }
      ]
    },
    {
      "cell_type": "code",
      "source": [
        ""
      ],
      "metadata": {
        "id": "TZWPaKb9fDD8"
      },
      "execution_count": null,
      "outputs": []
    }
  ]
}