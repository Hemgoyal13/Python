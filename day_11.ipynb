{
  "nbformat": 4,
  "nbformat_minor": 0,
  "metadata": {
    "colab": {
      "provenance": []
    },
    "kernelspec": {
      "name": "python3",
      "display_name": "Python 3"
    },
    "language_info": {
      "name": "python"
    }
  },
  "cells": [
    {
      "cell_type": "code",
      "execution_count": 7,
      "metadata": {
        "colab": {
          "base_uri": "https://localhost:8080/"
        },
        "id": "TX9H6JHpQKZJ",
        "outputId": "34bd3e8c-f89c-4b2f-fd9e-4edee66a0f35"
      },
      "outputs": [
        {
          "output_type": "stream",
          "name": "stdout",
          "text": [
            "invalid\n",
            "['(']\n",
            ")\n"
          ]
        }
      ],
      "source": [
        "#valid paranthensis\n",
        "s=\"(()\"\n",
        "mylist=[]\n",
        "x=0\n",
        "for char in s:\n",
        "  if char==\"(\":\n",
        "    mylist.append(char)\n",
        "  elif(char==\")\" and \"(\"!=mylist.pop()):\n",
        "    x=1\n",
        "    break\n",
        "\n",
        "if(x==1 or len(mylist)>0):\n",
        "  print(\"invalid\")\n",
        "else:\n",
        "  print(\"valid\")\n",
        "\n",
        "print(mylist)\n",
        "print(char)\n"
      ]
    },
    {
      "cell_type": "code",
      "source": [
        "s=\"()\"\n",
        "mylist=[]\n",
        "x=0\n",
        "for char in s:\n",
        "  if char==\"(\":\n",
        "    mylist.append(char)\n",
        "  elif(char==\")\" and \"(\"!=mylist[-1]):\n",
        "    x=1\n",
        "    break\n",
        "\n",
        "if(x==1):\n",
        "  print(\"invalid\")\n",
        "else:\n",
        "  print(\"valid\")\n",
        "\n",
        "print(mylist)\n",
        "print(char)\n"
      ],
      "metadata": {
        "colab": {
          "base_uri": "https://localhost:8080/"
        },
        "id": "4mryeufUWHMY",
        "outputId": "ef9eab98-393a-4dfa-f52a-61c02946d855"
      },
      "execution_count": 9,
      "outputs": [
        {
          "output_type": "stream",
          "name": "stdout",
          "text": [
            "valid\n",
            "['(']\n",
            ")\n"
          ]
        }
      ]
    },
    {
      "cell_type": "code",
      "source": [
        "s=\"(()\"\n",
        "mylist=[]\n",
        "x=0\n",
        "for char in s:\n",
        "  if char==\"(\":\n",
        "    mylist.append(char)#[(, (]\n",
        "  elif(mylist):\n",
        "    if(char==\")\" and \"(\"!=mylist.pop()):\n",
        "      x=1\n",
        "      break\n",
        "  else:\n",
        "    x=1\n",
        "\n",
        "if(x==1 or len(mylist)>0):\n",
        "  print(\"invalid\")\n",
        "else:\n",
        "  print(\"valid\")\n",
        "\n",
        "print(mylist)\n",
        "print(char)\n"
      ],
      "metadata": {
        "colab": {
          "base_uri": "https://localhost:8080/"
        },
        "id": "QrwwKPLjW7Uh",
        "outputId": "424a1f78-d01f-4cc4-f523-567650dee70d"
      },
      "execution_count": 15,
      "outputs": [
        {
          "output_type": "stream",
          "name": "stdout",
          "text": [
            "invalid\n",
            "['(']\n",
            ")\n"
          ]
        }
      ]
    },
    {
      "cell_type": "code",
      "source": [
        "s=\"()\"\n",
        "mylist=[]\n",
        "x=0\n",
        "for char in s:\n",
        "  if char in \"({[\":\n",
        "    mylist.append(char)#[(, (]\n",
        "  elif(mylist):\n",
        "    if(char==\")\" and \"(\"!=mylist.pop()):\n",
        "      x=1\n",
        "      break\n",
        "    elif(mylist):\n",
        "      if(char==\"}\" and \"{\"!=mylist.pop()):\n",
        "        x=1\n",
        "        break\n",
        "    elif(mylist):\n",
        "      if(char==\"]\" and \"[\"!=mylist.pop()):\n",
        "        x=1\n",
        "        break\n",
        "  else:\n",
        "    x=1\n",
        "\n",
        "if(x==1 or len(mylist)>0):\n",
        "  print(\"invalid\")\n",
        "else:\n",
        "  print(\"valid\")\n",
        "\n",
        "print(mylist)\n",
        "print(char)\n"
      ],
      "metadata": {
        "colab": {
          "base_uri": "https://localhost:8080/"
        },
        "id": "Qe9aIXcaZ1Uv",
        "outputId": "7f7f4363-735c-44a5-d585-114d10631535"
      },
      "execution_count": 22,
      "outputs": [
        {
          "output_type": "stream",
          "name": "stdout",
          "text": [
            "valid\n",
            "[]\n",
            ")\n"
          ]
        }
      ]
    },
    {
      "cell_type": "code",
      "source": [
        "mydict={}\n",
        "mydict2={}\n",
        "s=\"tyu\"\n",
        "b=\"tuy\"\n",
        "for i in s:\n",
        "    if i in mydict:\n",
        "      mydict[i]=mydict[i]+1\n",
        "    else:\n",
        "      mydict[i]=1\n",
        "for j in b:\n",
        "    if j in mydict2:\n",
        "      mydict2[j]=mydict2[j]+1\n",
        "    else:\n",
        "      mydict2[j]=1\n",
        "if mydict==mydict2:\n",
        "  print(\"valid \")\n",
        "else:\n",
        "  print(\"not valid\")\n"
      ],
      "metadata": {
        "colab": {
          "base_uri": "https://localhost:8080/"
        },
        "id": "15jblV0Kbj0z",
        "outputId": "10e5f512-cd65-49f9-a1dd-c006fbcd93d1"
      },
      "execution_count": 26,
      "outputs": [
        {
          "output_type": "stream",
          "name": "stdout",
          "text": [
            "valid \n"
          ]
        }
      ]
    },
    {
      "cell_type": "code",
      "source": [],
      "metadata": {
        "id": "wsOfKaOoddf7"
      },
      "execution_count": null,
      "outputs": []
    }
  ]
}