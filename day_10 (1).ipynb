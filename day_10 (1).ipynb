{
  "nbformat": 4,
  "nbformat_minor": 0,
  "metadata": {
    "colab": {
      "provenance": []
    },
    "kernelspec": {
      "name": "python3",
      "display_name": "Python 3"
    },
    "language_info": {
      "name": "python"
    }
  },
  "cells": [
    {
      "cell_type": "code",
      "execution_count": 2,
      "metadata": {
        "id": "HAFgcM7SKBiE"
      },
      "outputs": [],
      "source": [
        "# tuple\n",
        "# help() function is used to get all function used in every data types\n",
        "# tuple are same as list but they are immutable\n",
        "# there is no insert delete aur append function used in tuple\n",
        "# datatypes in python\n",
        "# a. numeric datatypes\n",
        "#   1. intiger\n",
        "#   2. float\n",
        "#   3. complex\n",
        "#   4. boolean\n",
        "# b. sequence datatypes\n",
        "#   1. list\n",
        "#   2. tuple\n",
        "#   3. string\n",
        "# c. dictionary\n",
        "# d. sets datatypes"
      ]
    },
    {
      "cell_type": "code",
      "source": [
        "# python used object reference values\n",
        "# change value of variable creates new memory\n",
        "# id() function isusedd to check the memory address\n",
        "# the changes of value in new memory is called immutable\n",
        "# for example numeric datatypes ,string ,tuple\n",
        "# the changes of value in same memory is called mutable\n",
        "# such as list ,sets and dictionary\n",
        ""
      ],
      "metadata": {
        "id": "eQFtRz4HU-8a"
      },
      "execution_count": null,
      "outputs": []
    },
    {
      "cell_type": "code",
      "source": [
        "# dictionary datatypes\n",
        "# { } used to define dictonary\n",
        "# it is mutable datatype\n",
        "# no index position\n",
        "# dictionary are ordered collection of elements\n",
        "# it stores data in key and value format\n",
        "# keys in dictionay are unique and immutable\n",
        "# values can be unique or duplicate\n",
        "# wee can use key as any variable aur number"
      ],
      "metadata": {
        "id": "jfpDr3VGVDC7"
      },
      "execution_count": null,
      "outputs": []
    },
    {
      "cell_type": "code",
      "source": [
        "a=10\n",
        "b=a\n",
        "print(id(a),id(b))\n",
        "a=20\n",
        "print(id(a),id(b))"
      ],
      "metadata": {
        "colab": {
          "base_uri": "https://localhost:8080/"
        },
        "id": "s2u7aaMnUz7d",
        "outputId": "4fbb2a3a-2e11-4f75-dd55-37638bcfa883"
      },
      "execution_count": 1,
      "outputs": [
        {
          "output_type": "stream",
          "name": "stdout",
          "text": [
            "10751144 10751144\n",
            "10751464 10751144\n"
          ]
        }
      ]
    },
    {
      "cell_type": "code",
      "source": [
        "#Dictionary\n",
        "#key and value\n",
        "#key => unique(identifier)\n",
        "#value => duplicate or unique\n",
        "# {}\n",
        "#multable datatype\n",
        "# no index value\n",
        "# it is ordered collection of elements\n",
        "# we can not access data using index\n",
        "\n"
      ],
      "metadata": {
        "id": "7_WXQnVJNCkW"
      },
      "execution_count": null,
      "outputs": []
    },
    {
      "cell_type": "code",
      "source": [
        "mydict={1:\"hem\", 2:\"aman\",\"city\":\"jaipur\"}\n",
        "print(mydict)\n",
        "len(mydict)"
      ],
      "metadata": {
        "colab": {
          "base_uri": "https://localhost:8080/"
        },
        "id": "kO2DWfHXOn-6",
        "outputId": "bad6b890-5966-480d-f78a-ab00e142a822"
      },
      "execution_count": null,
      "outputs": [
        {
          "output_type": "stream",
          "name": "stdout",
          "text": [
            "{1: 'hem', 2: 'aman', 'city': 'jaipur'}\n"
          ]
        },
        {
          "output_type": "execute_result",
          "data": {
            "text/plain": [
              "3"
            ]
          },
          "metadata": {},
          "execution_count": 4
        }
      ]
    },
    {
      "cell_type": "code",
      "source": [
        "mydict={1:\"hem\", 2:\"aman\",\"city\":\"jaipur\"}\n",
        "print(mydict)"
      ],
      "metadata": {
        "id": "c5_TnrvTPC1D"
      },
      "execution_count": null,
      "outputs": []
    },
    {
      "cell_type": "code",
      "source": [
        "mydict={1:\"hem\", 2:\"aman\",\"city\":\"jaipur\"}\n",
        "mydict[2]=\"akshy\" #update\n",
        "print(mydict)"
      ],
      "metadata": {
        "colab": {
          "base_uri": "https://localhost:8080/"
        },
        "id": "LIm6AwDnPLOo",
        "outputId": "a5e23f2e-9b67-4534-bb90-1c5558b9b9a6"
      },
      "execution_count": null,
      "outputs": [
        {
          "output_type": "stream",
          "name": "stdout",
          "text": [
            "{1: 'hem', 2: 'akshy', 'city': 'jaipur'}\n"
          ]
        }
      ]
    },
    {
      "cell_type": "code",
      "source": [
        "mydict={1:\"hem\", 2:\"aman\",\"city\":\"jaipur\"}\n",
        "mydict[4]='ajay' #insert\n",
        "print(mydict)"
      ],
      "metadata": {
        "colab": {
          "base_uri": "https://localhost:8080/"
        },
        "id": "SGOUbAGdPrtQ",
        "outputId": "41abc356-af72-40ba-eeab-8a61c42a620e"
      },
      "execution_count": null,
      "outputs": [
        {
          "output_type": "stream",
          "name": "stdout",
          "text": [
            "{1: 'hem', 2: 'aman', 'city': 'jaipur', 4: 'ajay'}\n"
          ]
        }
      ]
    },
    {
      "cell_type": "code",
      "source": [
        "mydict={1:\"hem\", 2:\"aman\",\"city\":\"jaipur\"}\n",
        "help(mydict) #documentation of all the data type in python\n"
      ],
      "metadata": {
        "colab": {
          "base_uri": "https://localhost:8080/"
        },
        "id": "4TwD7yCHP3XS",
        "outputId": "833cbc2e-fc4e-4714-d894-891997a7aebf"
      },
      "execution_count": null,
      "outputs": [
        {
          "output_type": "stream",
          "name": "stdout",
          "text": [
            "Help on dict object:\n",
            "\n",
            "class dict(object)\n",
            " |  dict() -> new empty dictionary\n",
            " |  dict(mapping) -> new dictionary initialized from a mapping object's\n",
            " |      (key, value) pairs\n",
            " |  dict(iterable) -> new dictionary initialized as if via:\n",
            " |      d = {}\n",
            " |      for k, v in iterable:\n",
            " |          d[k] = v\n",
            " |  dict(**kwargs) -> new dictionary initialized with the name=value pairs\n",
            " |      in the keyword argument list.  For example:  dict(one=1, two=2)\n",
            " |  \n",
            " |  Built-in subclasses:\n",
            " |      StgDict\n",
            " |  \n",
            " |  Methods defined here:\n",
            " |  \n",
            " |  __contains__(self, key, /)\n",
            " |      True if the dictionary has the specified key, else False.\n",
            " |  \n",
            " |  __delitem__(self, key, /)\n",
            " |      Delete self[key].\n",
            " |  \n",
            " |  __eq__(self, value, /)\n",
            " |      Return self==value.\n",
            " |  \n",
            " |  __ge__(self, value, /)\n",
            " |      Return self>=value.\n",
            " |  \n",
            " |  __getattribute__(self, name, /)\n",
            " |      Return getattr(self, name).\n",
            " |  \n",
            " |  __getitem__(...)\n",
            " |      x.__getitem__(y) <==> x[y]\n",
            " |  \n",
            " |  __gt__(self, value, /)\n",
            " |      Return self>value.\n",
            " |  \n",
            " |  __init__(self, /, *args, **kwargs)\n",
            " |      Initialize self.  See help(type(self)) for accurate signature.\n",
            " |  \n",
            " |  __ior__(self, value, /)\n",
            " |      Return self|=value.\n",
            " |  \n",
            " |  __iter__(self, /)\n",
            " |      Implement iter(self).\n",
            " |  \n",
            " |  __le__(self, value, /)\n",
            " |      Return self<=value.\n",
            " |  \n",
            " |  __len__(self, /)\n",
            " |      Return len(self).\n",
            " |  \n",
            " |  __lt__(self, value, /)\n",
            " |      Return self<value.\n",
            " |  \n",
            " |  __ne__(self, value, /)\n",
            " |      Return self!=value.\n",
            " |  \n",
            " |  __or__(self, value, /)\n",
            " |      Return self|value.\n",
            " |  \n",
            " |  __repr__(self, /)\n",
            " |      Return repr(self).\n",
            " |  \n",
            " |  __reversed__(self, /)\n",
            " |      Return a reverse iterator over the dict keys.\n",
            " |  \n",
            " |  __ror__(self, value, /)\n",
            " |      Return value|self.\n",
            " |  \n",
            " |  __setitem__(self, key, value, /)\n",
            " |      Set self[key] to value.\n",
            " |  \n",
            " |  __sizeof__(...)\n",
            " |      D.__sizeof__() -> size of D in memory, in bytes\n",
            " |  \n",
            " |  clear(...)\n",
            " |      D.clear() -> None.  Remove all items from D.\n",
            " |  \n",
            " |  copy(...)\n",
            " |      D.copy() -> a shallow copy of D\n",
            " |  \n",
            " |  get(self, key, default=None, /)\n",
            " |      Return the value for key if key is in the dictionary, else default.\n",
            " |  \n",
            " |  items(...)\n",
            " |      D.items() -> a set-like object providing a view on D's items\n",
            " |  \n",
            " |  keys(...)\n",
            " |      D.keys() -> a set-like object providing a view on D's keys\n",
            " |  \n",
            " |  pop(...)\n",
            " |      D.pop(k[,d]) -> v, remove specified key and return the corresponding value.\n",
            " |      \n",
            " |      If the key is not found, return the default if given; otherwise,\n",
            " |      raise a KeyError.\n",
            " |  \n",
            " |  popitem(self, /)\n",
            " |      Remove and return a (key, value) pair as a 2-tuple.\n",
            " |      \n",
            " |      Pairs are returned in LIFO (last-in, first-out) order.\n",
            " |      Raises KeyError if the dict is empty.\n",
            " |  \n",
            " |  setdefault(self, key, default=None, /)\n",
            " |      Insert key with a value of default if key is not in the dictionary.\n",
            " |      \n",
            " |      Return the value for key if key is in the dictionary, else default.\n",
            " |  \n",
            " |  update(...)\n",
            " |      D.update([E, ]**F) -> None.  Update D from dict/iterable E and F.\n",
            " |      If E is present and has a .keys() method, then does:  for k in E: D[k] = E[k]\n",
            " |      If E is present and lacks a .keys() method, then does:  for k, v in E: D[k] = v\n",
            " |      In either case, this is followed by: for k in F:  D[k] = F[k]\n",
            " |  \n",
            " |  values(...)\n",
            " |      D.values() -> an object providing a view on D's values\n",
            " |  \n",
            " |  ----------------------------------------------------------------------\n",
            " |  Class methods defined here:\n",
            " |  \n",
            " |  __class_getitem__(...)\n",
            " |      See PEP 585\n",
            " |  \n",
            " |  fromkeys(iterable, value=None, /)\n",
            " |      Create a new dictionary with keys from iterable and values set to value.\n",
            " |  \n",
            " |  ----------------------------------------------------------------------\n",
            " |  Static methods defined here:\n",
            " |  \n",
            " |  __new__(*args, **kwargs)\n",
            " |      Create and return a new object.  See help(type) for accurate signature.\n",
            " |  \n",
            " |  ----------------------------------------------------------------------\n",
            " |  Data and other attributes defined here:\n",
            " |  \n",
            " |  __hash__ = None\n",
            "\n"
          ]
        }
      ]
    },
    {
      "cell_type": "code",
      "source": [
        "mydict={1:\"hem\", 2:\"aman\",\"city\":\"jaipur\"}\n",
        "\n",
        "for i in mydict.keys(): # .keys helps to return keys\n",
        "  print(i,mydict[i])"
      ],
      "metadata": {
        "colab": {
          "base_uri": "https://localhost:8080/"
        },
        "id": "Bo4VahUCQRli",
        "outputId": "37365142-c120-43c7-bf01-11dfed887491"
      },
      "execution_count": null,
      "outputs": [
        {
          "output_type": "stream",
          "name": "stdout",
          "text": [
            "1 hem\n",
            "2 aman\n",
            "city jaipur\n"
          ]
        }
      ]
    },
    {
      "cell_type": "code",
      "source": [
        "mydict={1:\"hem\", 2:\"aman\",\"city\":\"jaipur\"}\n",
        "\n",
        "for i in mydict.values(): # .values helps to return keys value\n",
        "  print(i)\n"
      ],
      "metadata": {
        "colab": {
          "base_uri": "https://localhost:8080/"
        },
        "id": "WuICv8vGROtM",
        "outputId": "fcc86b54-3c2f-42c8-8a9b-d8beb1f0a0a5"
      },
      "execution_count": null,
      "outputs": [
        {
          "output_type": "stream",
          "name": "stdout",
          "text": [
            "hem\n",
            "aman\n",
            "jaipur\n"
          ]
        }
      ]
    },
    {
      "cell_type": "code",
      "source": [
        "x=(10,20)\n",
        "a=x[0]\n",
        "b=x[1]\n",
        "print(a,b)"
      ],
      "metadata": {
        "colab": {
          "base_uri": "https://localhost:8080/"
        },
        "id": "8VEf-jDISAfb",
        "outputId": "6e142eb4-fb8b-4dd9-b80b-2dd417475d16"
      },
      "execution_count": null,
      "outputs": [
        {
          "output_type": "stream",
          "name": "stdout",
          "text": [
            "10 20\n"
          ]
        }
      ]
    },
    {
      "cell_type": "code",
      "source": [
        "x=(10,20)\n",
        "a,b=x\n",
        "print(a,b) #unpacking"
      ],
      "metadata": {
        "colab": {
          "base_uri": "https://localhost:8080/"
        },
        "id": "_NpXRRWtSORM",
        "outputId": "44819d38-e07f-46a9-e323-a15df144a2f0"
      },
      "execution_count": null,
      "outputs": [
        {
          "output_type": "stream",
          "name": "stdout",
          "text": [
            "10 20\n"
          ]
        }
      ]
    },
    {
      "cell_type": "code",
      "source": [
        "mydict={1:\"hem\", 2:\"aman\",\"city\":\"jaipur\"}\n",
        "\n",
        "for i in mydict.keys(): # .keys helps to return keys\n",
        "  print(i,mydict[i])"
      ],
      "metadata": {
        "id": "rZTixNdfSlVl"
      },
      "execution_count": null,
      "outputs": []
    },
    {
      "cell_type": "code",
      "source": [
        "mydict={\"x\":100}\n",
        "mydict[\"x\"]=mydict[\"x\"]+50\n",
        "print(mydict)"
      ],
      "metadata": {
        "colab": {
          "base_uri": "https://localhost:8080/"
        },
        "id": "7cnxYipcSsjT",
        "outputId": "09ca5ef7-96b8-432b-99f3-e4f3638eb85c"
      },
      "execution_count": null,
      "outputs": [
        {
          "output_type": "stream",
          "name": "stdout",
          "text": [
            "{'x': 150}\n"
          ]
        }
      ]
    },
    {
      "cell_type": "code",
      "source": [
        "mydict={\"count\":0}\n",
        "for j in \"hello\":\n",
        "  mydict[\"count\"]=mydict[\"count\"]+1\n",
        "\n",
        "print(mydict)\n"
      ],
      "metadata": {
        "colab": {
          "base_uri": "https://localhost:8080/"
        },
        "id": "FdJz3tl1Sqoj",
        "outputId": "c4a654a8-860c-4fe5-db02-2285d178c15f"
      },
      "execution_count": null,
      "outputs": [
        {
          "output_type": "stream",
          "name": "stdout",
          "text": [
            "{'count': 5}\n"
          ]
        }
      ]
    },
    {
      "cell_type": "code",
      "source": [
        "mydict={\"count\":0}\n",
        "for j in \"hello\":\n",
        "  if j in \"a,e,i,o,u\":\n",
        "    mydict[\"count\"]=mydict[\"count\"]+1\n",
        "\n",
        "print(mydict)\n"
      ],
      "metadata": {
        "colab": {
          "base_uri": "https://localhost:8080/"
        },
        "id": "lkxxpJHTUS2f",
        "outputId": "6c7078fd-4cac-416e-eba9-b5bd60479f91"
      },
      "execution_count": null,
      "outputs": [
        {
          "output_type": "stream",
          "name": "stdout",
          "text": [
            "{'count': 2}\n"
          ]
        }
      ]
    },
    {
      "cell_type": "code",
      "source": [
        "mydict={\"count\":0}\n",
        "a=\"hey\"\n",
        "for i in a:\n",
        "  mydict[i]=1\n",
        "\n",
        "print(mydict)\n",
        "\n"
      ],
      "metadata": {
        "colab": {
          "base_uri": "https://localhost:8080/"
        },
        "id": "ZFDfZrYAUyc5",
        "outputId": "e0a87141-93b1-4b00-b274-9f7a7e3e8316"
      },
      "execution_count": null,
      "outputs": [
        {
          "output_type": "stream",
          "name": "stdout",
          "text": [
            "{'count': 0, 'h': 1, 'e': 1, 'y': 1}\n"
          ]
        }
      ]
    },
    {
      "cell_type": "code",
      "source": [
        "mydict={}\n",
        "a=\"heey\"\n",
        "for i in a:\n",
        "  if i not in mydict:\n",
        "    if i in \"a,e,i,o,u\":\n",
        "      mydict[i]=1\n",
        "  else:\n",
        "    mydict[i]=mydict[i]+1\n",
        "\n",
        "print(mydict)\n",
        "\n"
      ],
      "metadata": {
        "colab": {
          "base_uri": "https://localhost:8080/"
        },
        "id": "ohWDMr0EVm8F",
        "outputId": "d1228b79-4399-43a9-c773-3d52252c59fe"
      },
      "execution_count": null,
      "outputs": [
        {
          "output_type": "stream",
          "name": "stdout",
          "text": [
            "{'e': 2}\n"
          ]
        }
      ]
    },
    {
      "cell_type": "code",
      "source": [
        "string=input(\"enter the character\")\n",
        "mydict={}\n",
        "\n",
        "for i in string:\n",
        "  if i not in string:\n",
        "    if i in \"a,e,i,o,u\":\n",
        "      mydict[i]=1\n",
        "    else:\n",
        "      mydict[i]=mydict[i]+1\n",
        "\n",
        "print(mydict)\n"
      ],
      "metadata": {
        "colab": {
          "base_uri": "https://localhost:8080/"
        },
        "id": "akBK7BHBXIJE",
        "outputId": "9baa0562-493a-4c96-cc5c-1760194d8112"
      },
      "execution_count": null,
      "outputs": [
        {
          "output_type": "stream",
          "name": "stdout",
          "text": [
            "enter the charactersfgdhyruoio\n",
            "{}\n"
          ]
        }
      ]
    },
    {
      "cell_type": "code",
      "source": [
        "mylist=[1,2,3,7,11,13]\n",
        "mydict={}\n",
        "for i in range(0,len(mylist)):\n",
        "  mydict[i]=mylist[i]\n",
        "print(mydict)\n",
        "k=9\n",
        "for i in mylist:\n",
        "  y=k-1\n",
        "  if mydict[i]==k:\n",
        "    print(mydict[i])\n",
        "\n",
        "\n"
      ],
      "metadata": {
        "colab": {
          "base_uri": "https://localhost:8080/",
          "height": 228
        },
        "id": "ZD0t2gCZYfh4",
        "outputId": "b6f58f1e-b146-47de-8974-ab7c0a126c17"
      },
      "execution_count": null,
      "outputs": [
        {
          "output_type": "stream",
          "name": "stdout",
          "text": [
            "{0: 1, 1: 2, 2: 3, 3: 7, 4: 11, 5: 13}\n"
          ]
        },
        {
          "output_type": "error",
          "ename": "KeyError",
          "evalue": "7",
          "traceback": [
            "\u001b[0;31m---------------------------------------------------------------------------\u001b[0m",
            "\u001b[0;31mKeyError\u001b[0m                                  Traceback (most recent call last)",
            "\u001b[0;32m<ipython-input-51-2e7668bc99b5>\u001b[0m in \u001b[0;36m<cell line: 0>\u001b[0;34m()\u001b[0m\n\u001b[1;32m      7\u001b[0m \u001b[0;32mfor\u001b[0m \u001b[0mi\u001b[0m \u001b[0;32min\u001b[0m \u001b[0mmylist\u001b[0m\u001b[0;34m:\u001b[0m\u001b[0;34m\u001b[0m\u001b[0;34m\u001b[0m\u001b[0m\n\u001b[1;32m      8\u001b[0m   \u001b[0my\u001b[0m\u001b[0;34m=\u001b[0m\u001b[0mk\u001b[0m\u001b[0;34m-\u001b[0m\u001b[0;36m1\u001b[0m\u001b[0;34m\u001b[0m\u001b[0;34m\u001b[0m\u001b[0m\n\u001b[0;32m----> 9\u001b[0;31m   \u001b[0;32mif\u001b[0m \u001b[0mmydict\u001b[0m\u001b[0;34m[\u001b[0m\u001b[0mi\u001b[0m\u001b[0;34m]\u001b[0m\u001b[0;34m==\u001b[0m\u001b[0mk\u001b[0m\u001b[0;34m:\u001b[0m\u001b[0;34m\u001b[0m\u001b[0;34m\u001b[0m\u001b[0m\n\u001b[0m\u001b[1;32m     10\u001b[0m     \u001b[0mprint\u001b[0m\u001b[0;34m(\u001b[0m\u001b[0mmydict\u001b[0m\u001b[0;34m[\u001b[0m\u001b[0mi\u001b[0m\u001b[0;34m]\u001b[0m\u001b[0;34m)\u001b[0m\u001b[0;34m\u001b[0m\u001b[0;34m\u001b[0m\u001b[0m\n\u001b[1;32m     11\u001b[0m \u001b[0;34m\u001b[0m\u001b[0m\n",
            "\u001b[0;31mKeyError\u001b[0m: 7"
          ]
        }
      ]
    }
  ]
}