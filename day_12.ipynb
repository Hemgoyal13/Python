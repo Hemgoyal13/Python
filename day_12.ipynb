{
  "nbformat": 4,
  "nbformat_minor": 0,
  "metadata": {
    "colab": {
      "provenance": []
    },
    "kernelspec": {
      "name": "python3",
      "display_name": "Python 3"
    },
    "language_info": {
      "name": "python"
    }
  },
  "cells": [
    {
      "cell_type": "code",
      "execution_count": 8,
      "metadata": {
        "colab": {
          "base_uri": "https://localhost:8080/"
        },
        "id": "75ZCxy3hmyIq",
        "outputId": "58f76f26-8498-444d-e239-80f82430fcf8"
      },
      "outputs": [
        {
          "output_type": "stream",
          "name": "stdout",
          "text": [
            "{1, 2, 3, 4}\n"
          ]
        }
      ],
      "source": [
        "myset={1,2,3,4}\n",
        "myset2={3,4,5}\n",
        "myset.difference(myset2)\n",
        "\n",
        "print(myset, myset2)"
      ]
    },
    {
      "cell_type": "code",
      "source": [
        "myset={1,2,3}\n",
        "myset2={3,4,5}\n",
        "myset.difference_update(myset2)\n",
        "\n",
        "\n",
        "print(myset,myset2)"
      ],
      "metadata": {
        "colab": {
          "base_uri": "https://localhost:8080/"
        },
        "id": "dFzckCQdnEqY",
        "outputId": "18e0237a-cebc-4578-a53e-ea53035a0fcf"
      },
      "execution_count": 5,
      "outputs": [
        {
          "output_type": "stream",
          "name": "stdout",
          "text": [
            "{1, 2} {3, 4, 5}\n"
          ]
        }
      ]
    },
    {
      "cell_type": "code",
      "source": [
        "myset={1,2,3,4}\n",
        "myset2={3,4,5}\n",
        "myset.update(myset2)\n",
        "print(myset)"
      ],
      "metadata": {
        "id": "Szh8Lq6tsXeA",
        "outputId": "d27d9c64-3027-423d-9a15-2b7a88ee1fe4",
        "colab": {
          "base_uri": "https://localhost:8080/"
        }
      },
      "execution_count": 28,
      "outputs": [
        {
          "output_type": "stream",
          "name": "stdout",
          "text": [
            "{1, 2, 3, 4, 5}\n"
          ]
        }
      ]
    },
    {
      "cell_type": "code",
      "source": [
        "myset={1,2,3,4}\n",
        "myset2={3,4,5}\n",
        "myset.pop()\n",
        "print(myset)"
      ],
      "metadata": {
        "id": "BzaHILPzspqM",
        "outputId": "286f526f-6bec-449f-f6d2-288fa1e6b760",
        "colab": {
          "base_uri": "https://localhost:8080/"
        }
      },
      "execution_count": 29,
      "outputs": [
        {
          "output_type": "stream",
          "name": "stdout",
          "text": [
            "{2, 3, 4}\n"
          ]
        }
      ]
    },
    {
      "cell_type": "code",
      "source": [
        "myset={1,2,3,4}\n",
        "myset2={3,4,5}\n",
        "myset3=myset.discard(myset2)\n",
        "print(myset3)"
      ],
      "metadata": {
        "id": "-yyQPuius5fB",
        "outputId": "bf0d9cf9-13f0-4fbb-8969-fb01b575caff",
        "colab": {
          "base_uri": "https://localhost:8080/"
        }
      },
      "execution_count": 32,
      "outputs": [
        {
          "output_type": "stream",
          "name": "stdout",
          "text": [
            "None\n"
          ]
        }
      ]
    },
    {
      "cell_type": "code",
      "source": [
        "myset={1,2,3,4}\n",
        "myset2={3,4,5}\n",
        "\n",
        "myset3=myset.union(myset2)\n",
        "print(myset3)"
      ],
      "metadata": {
        "id": "LZBHs-HTuWzo",
        "outputId": "14062ee1-a90e-43db-f24f-96bb263464ab",
        "colab": {
          "base_uri": "https://localhost:8080/"
        }
      },
      "execution_count": 36,
      "outputs": [
        {
          "output_type": "stream",
          "name": "stdout",
          "text": [
            "{1, 2, 3, 4, 5}\n"
          ]
        }
      ]
    },
    {
      "cell_type": "code",
      "source": [
        "#issuperset\n",
        "#symmetric_difference\n",
        "#isdisjoint"
      ],
      "metadata": {
        "id": "exz0Al-eoNpA"
      },
      "execution_count": null,
      "outputs": []
    },
    {
      "cell_type": "code",
      "source": [
        "set1={1,2,3,4,5}\n",
        "set2={1,2,3}\n",
        "set3=set1.issuperset(set2)\n",
        "\n",
        "print(set3)"
      ],
      "metadata": {
        "colab": {
          "base_uri": "https://localhost:8080/"
        },
        "id": "ZltCbDqSoeS-",
        "outputId": "e20a666b-4850-4f61-c0a5-60f9ab9bed2c"
      },
      "execution_count": 27,
      "outputs": [
        {
          "output_type": "stream",
          "name": "stdout",
          "text": [
            "True\n"
          ]
        }
      ]
    },
    {
      "cell_type": "code",
      "source": [
        "set1={1,2,3}\n",
        "set2={7,8,9}\n",
        "set3=set1.isdisjoint(set2)\n",
        "\n",
        "print(set3)\n"
      ],
      "metadata": {
        "colab": {
          "base_uri": "https://localhost:8080/"
        },
        "id": "LXV1YEeFpQ1A",
        "outputId": "289846e1-3688-451d-e339-c005b724e0c4"
      },
      "execution_count": 24,
      "outputs": [
        {
          "output_type": "stream",
          "name": "stdout",
          "text": [
            "True\n"
          ]
        }
      ]
    },
    {
      "cell_type": "code",
      "source": [
        "set1={1,2,3,4,5}\n",
        "set2={7,8,9,1,2}\n",
        "set3=set1.symmetric_difference(set2)\n",
        "\n",
        "print(set3)"
      ],
      "metadata": {
        "colab": {
          "base_uri": "https://localhost:8080/"
        },
        "id": "T_XU-rHypcoE",
        "outputId": "6c4438bc-6546-44fa-9d0e-3e1993e660e8"
      },
      "execution_count": 20,
      "outputs": [
        {
          "output_type": "stream",
          "name": "stdout",
          "text": [
            "{3, 4, 5, 7, 8, 9}\n"
          ]
        }
      ]
    },
    {
      "cell_type": "code",
      "source": [
        "# function\n",
        "# Block of code\n",
        "# we can use it for converting your code into smaller portion of code\n",
        "# help in reusability\n",
        "# debugging"
      ],
      "metadata": {
        "id": "TBcsQSaUsUtx"
      },
      "execution_count": null,
      "outputs": []
    },
    {
      "cell_type": "code",
      "source": [
        "# syntax of function\n",
        "# def is used to make a function\n"
      ],
      "metadata": {
        "id": "fPefmIZXuQOZ"
      },
      "execution_count": null,
      "outputs": []
    },
    {
      "cell_type": "code",
      "source": [
        "\n",
        "def hello2():\n",
        "  print(\"hello world\")\n",
        "  print(\"hello lerner\")"
      ],
      "metadata": {
        "id": "gXh93-tKvz_B"
      },
      "execution_count": 39,
      "outputs": []
    },
    {
      "cell_type": "code",
      "source": [
        "hello()"
      ],
      "metadata": {
        "id": "Xnpr4BDRv4HD",
        "outputId": "fcf14e4b-33c7-436a-d9b6-8e7a5476af95",
        "colab": {
          "base_uri": "https://localhost:8080/"
        }
      },
      "execution_count": 40,
      "outputs": [
        {
          "output_type": "stream",
          "name": "stdout",
          "text": [
            "hello world\n",
            "hello lerner\n"
          ]
        }
      ]
    },
    {
      "cell_type": "code",
      "source": [
        "# a=int(input(\"enter the number:=\"))\n",
        "# b=int(input(\"enter the number:=\"))\n",
        "def add(a,b):\n",
        "\n",
        "  c=a+b\n",
        "  print(\"addition of two is :=\",c)"
      ],
      "metadata": {
        "id": "2yFbChqFwLmC"
      },
      "execution_count": 55,
      "outputs": []
    },
    {
      "cell_type": "code",
      "source": [],
      "metadata": {
        "id": "3dYJk-IBwe-g"
      },
      "execution_count": 57,
      "outputs": []
    },
    {
      "cell_type": "code",
      "source": [
        "#void fun\n",
        "def hello1(z):\n",
        "  print(\"hey\",z)"
      ],
      "metadata": {
        "id": "PvHpxbhMxnxp"
      },
      "execution_count": 49,
      "outputs": []
    },
    {
      "cell_type": "code",
      "source": [
        "hello(\"hem\")\n",
        "hello(\"Ankit\")"
      ],
      "metadata": {
        "id": "BRHVYZ74xz6y",
        "outputId": "50c78abe-f18e-4420-af3d-2b08fba8afb3",
        "colab": {
          "base_uri": "https://localhost:8080/"
        }
      },
      "execution_count": 54,
      "outputs": [
        {
          "output_type": "stream",
          "name": "stdout",
          "text": [
            "hey hem\n",
            "hey Ankit\n"
          ]
        }
      ]
    },
    {
      "cell_type": "code",
      "source": [
        "# global var\n",
        "x=10 #global var\n",
        "def hey():\n",
        "  global x # now is became global var\n",
        "  x=\"abc\"# local var\n",
        "  print(\"hey\",x)"
      ],
      "metadata": {
        "id": "i2PJRwL8yWAu"
      },
      "execution_count": 67,
      "outputs": []
    },
    {
      "cell_type": "code",
      "source": [
        "hey()\n",
        "print(x)"
      ],
      "metadata": {
        "id": "0KSOdb84z2_x",
        "outputId": "0abd3119-3640-461d-ae47-143e8bfc374c",
        "colab": {
          "base_uri": "https://localhost:8080/"
        }
      },
      "execution_count": 70,
      "outputs": [
        {
          "output_type": "stream",
          "name": "stdout",
          "text": [
            "hey abc\n",
            "abc\n"
          ]
        }
      ]
    },
    {
      "cell_type": "code",
      "source": [
        "# global var\n",
        "x=10 #global var\n",
        "def hey2():\n",
        "\n",
        "  x=\"abc\"# local var\n",
        "  print(\"hey\",x)"
      ],
      "metadata": {
        "id": "uJl9K2lvyoJS"
      },
      "execution_count": 72,
      "outputs": []
    },
    {
      "cell_type": "code",
      "source": [
        "hey2()\n",
        "print(x)"
      ],
      "metadata": {
        "id": "cmkqwfo90Co6",
        "outputId": "42a989e7-4a4e-44d1-a9a0-80585778c55e",
        "colab": {
          "base_uri": "https://localhost:8080/"
        }
      },
      "execution_count": 73,
      "outputs": [
        {
          "output_type": "stream",
          "name": "stdout",
          "text": [
            "hey abc\n",
            "10\n"
          ]
        }
      ]
    },
    {
      "cell_type": "code",
      "source": [
        "x=10\n",
        "def funct(x):\n",
        "  print(\"hey\",x)"
      ],
      "metadata": {
        "id": "dsahPtF10Jve"
      },
      "execution_count": 75,
      "outputs": []
    },
    {
      "cell_type": "code",
      "source": [],
      "metadata": {
        "id": "6d6GE4s001P4"
      },
      "execution_count": null,
      "outputs": []
    }
  ]
}