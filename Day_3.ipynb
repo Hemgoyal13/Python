{
  "nbformat": 4,
  "nbformat_minor": 0,
  "metadata": {
    "colab": {
      "provenance": []
    },
    "kernelspec": {
      "name": "python3",
      "display_name": "Python 3"
    },
    "language_info": {
      "name": "python"
    }
  },
  "cells": [
    {
      "cell_type": "code",
      "execution_count": 1,
      "metadata": {
        "id": "dtLzFXAb_zBM",
        "colab": {
          "base_uri": "https://localhost:8080/",
          "height": 36
        },
        "outputId": "ac145c1c-92b0-4c0b-81f5-1fab030df051"
      },
      "outputs": [
        {
          "output_type": "execute_result",
          "data": {
            "text/plain": [
              "'U'"
            ],
            "application/vnd.google.colaboratory.intrinsic+json": {
              "type": "string"
            }
          },
          "metadata": {},
          "execution_count": 1
        }
      ],
      "source": [
        "city=\"UDAIPUR\"\n",
        "city[0]\n",
        ""
      ]
    },
    {
      "cell_type": "code",
      "source": [
        "city=\"UDAIPUR\"\n",
        "city[0:]"
      ],
      "metadata": {
        "colab": {
          "base_uri": "https://localhost:8080/",
          "height": 36
        },
        "id": "N-gq5_EK-vUO",
        "outputId": "968758b1-9d8f-48f8-f7c7-2398145dd6f1"
      },
      "execution_count": 2,
      "outputs": [
        {
          "output_type": "execute_result",
          "data": {
            "text/plain": [
              "'UDAIPUR'"
            ],
            "application/vnd.google.colaboratory.intrinsic+json": {
              "type": "string"
            }
          },
          "metadata": {},
          "execution_count": 2
        }
      ]
    },
    {
      "cell_type": "code",
      "source": [
        "city=\"UDAIPUR\"\n",
        "city[0:3]"
      ],
      "metadata": {
        "colab": {
          "base_uri": "https://localhost:8080/",
          "height": 36
        },
        "id": "8JpyxsZ3-xl8",
        "outputId": "915868b1-33b7-4408-9d30-5ecc593adc5c"
      },
      "execution_count": 3,
      "outputs": [
        {
          "output_type": "execute_result",
          "data": {
            "text/plain": [
              "'UDA'"
            ],
            "application/vnd.google.colaboratory.intrinsic+json": {
              "type": "string"
            }
          },
          "metadata": {},
          "execution_count": 3
        }
      ]
    },
    {
      "cell_type": "code",
      "source": [
        "city=\"UDAIPUR\"\n",
        "city[-1]\n",
        "\n"
      ],
      "metadata": {
        "colab": {
          "base_uri": "https://localhost:8080/",
          "height": 36
        },
        "id": "bB1979oH-3Q-",
        "outputId": "89dc0594-f9eb-4f49-f476-9e73a86aeee6"
      },
      "execution_count": 4,
      "outputs": [
        {
          "output_type": "execute_result",
          "data": {
            "text/plain": [
              "'R'"
            ],
            "application/vnd.google.colaboratory.intrinsic+json": {
              "type": "string"
            }
          },
          "metadata": {},
          "execution_count": 4
        }
      ]
    },
    {
      "cell_type": "code",
      "source": [
        "city=\"UDAIPUR\"\n",
        "city[4:6]\n",
        "\n"
      ],
      "metadata": {
        "colab": {
          "base_uri": "https://localhost:8080/",
          "height": 36
        },
        "id": "Q8IJUaGj-3Nc",
        "outputId": "ce01f258-e520-4707-8882-82989a03ab3c"
      },
      "execution_count": 5,
      "outputs": [
        {
          "output_type": "execute_result",
          "data": {
            "text/plain": [
              "'PU'"
            ],
            "application/vnd.google.colaboratory.intrinsic+json": {
              "type": "string"
            }
          },
          "metadata": {},
          "execution_count": 5
        }
      ]
    },
    {
      "cell_type": "code",
      "source": [
        "city=\"UDAIPUR\"\n",
        "city[0:4:1]\n",
        ""
      ],
      "metadata": {
        "colab": {
          "base_uri": "https://localhost:8080/",
          "height": 36
        },
        "id": "bqfWz9Y5-2--",
        "outputId": "1db7e465-4362-4303-bb7c-d0c58725cfbd"
      },
      "execution_count": 7,
      "outputs": [
        {
          "output_type": "execute_result",
          "data": {
            "text/plain": [
              "'UDAI'"
            ],
            "application/vnd.google.colaboratory.intrinsic+json": {
              "type": "string"
            }
          },
          "metadata": {},
          "execution_count": 7
        }
      ]
    },
    {
      "cell_type": "code",
      "source": [
        "10/5"
      ],
      "metadata": {
        "colab": {
          "base_uri": "https://localhost:8080/"
        },
        "id": "ac6EOGeB_KW1",
        "outputId": "46a2baec-07fb-4f60-f6ea-a6350b92e111"
      },
      "execution_count": 8,
      "outputs": [
        {
          "output_type": "execute_result",
          "data": {
            "text/plain": [
              "2.0"
            ]
          },
          "metadata": {},
          "execution_count": 8
        }
      ]
    },
    {
      "cell_type": "code",
      "source": [
        "10//2\n"
      ],
      "metadata": {
        "colab": {
          "base_uri": "https://localhost:8080/"
        },
        "id": "FhzJWY_E_PV3",
        "outputId": "5dcf008d-1f9d-46eb-ca6b-83bbbfa4d485"
      },
      "execution_count": 9,
      "outputs": [
        {
          "output_type": "execute_result",
          "data": {
            "text/plain": [
              "5"
            ]
          },
          "metadata": {},
          "execution_count": 9
        }
      ]
    },
    {
      "cell_type": "code",
      "source": [
        "11//2+5-1"
      ],
      "metadata": {
        "colab": {
          "base_uri": "https://localhost:8080/"
        },
        "id": "jELoyM4k_SWt",
        "outputId": "e8c60e9e-e060-4509-8305-6d8b287a11a8"
      },
      "execution_count": 10,
      "outputs": [
        {
          "output_type": "execute_result",
          "data": {
            "text/plain": [
              "9"
            ]
          },
          "metadata": {},
          "execution_count": 10
        }
      ]
    },
    {
      "cell_type": "code",
      "source": [
        "y=6\n",
        "y/=3\n",
        "y\n"
      ],
      "metadata": {
        "colab": {
          "base_uri": "https://localhost:8080/"
        },
        "id": "_YejwNQl_WI6",
        "outputId": "1c4f21ea-c614-4926-d3bb-9b87526fc705"
      },
      "execution_count": 11,
      "outputs": [
        {
          "output_type": "execute_result",
          "data": {
            "text/plain": [
              "2.0"
            ]
          },
          "metadata": {},
          "execution_count": 11
        }
      ]
    },
    {
      "cell_type": "code",
      "source": [
        "y=6\n",
        "y**=2\n",
        "y\n"
      ],
      "metadata": {
        "colab": {
          "base_uri": "https://localhost:8080/"
        },
        "id": "l9ZxTnP-_bcI",
        "outputId": "b176c5e9-fe4d-4e8d-daa7-51203f1a730c"
      },
      "execution_count": 13,
      "outputs": [
        {
          "output_type": "execute_result",
          "data": {
            "text/plain": [
              "36"
            ]
          },
          "metadata": {},
          "execution_count": 13
        }
      ]
    },
    {
      "cell_type": "code",
      "source": [
        "# membership operator\n",
        "\n",
        "\"z\" in  \"yash\" #case sensitive"
      ],
      "metadata": {
        "colab": {
          "base_uri": "https://localhost:8080/"
        },
        "id": "zc87rMzD_h7S",
        "outputId": "b7d3758f-50fa-44e9-da4e-0ee4f5c40c73"
      },
      "execution_count": 14,
      "outputs": [
        {
          "output_type": "execute_result",
          "data": {
            "text/plain": [
              "False"
            ]
          },
          "metadata": {},
          "execution_count": 14
        }
      ]
    },
    {
      "cell_type": "code",
      "source": [
        "\n",
        "# identity operator\n",
        "# to chck whether a variable is a instance of class or not\n",
        "#to check memory address\n",
        "\n",
        "x=90\n",
        "type(x) is int #true\n",
        "type(x) is float #false"
      ],
      "metadata": {
        "colab": {
          "base_uri": "https://localhost:8080/"
        },
        "id": "blgx9Onn_jjw",
        "outputId": "83b4ec2b-79d9-4d37-8210-0c3de081f83f"
      },
      "execution_count": 15,
      "outputs": [
        {
          "output_type": "execute_result",
          "data": {
            "text/plain": [
              "False"
            ]
          },
          "metadata": {},
          "execution_count": 15
        }
      ]
    },
    {
      "cell_type": "code",
      "source": [
        "#bitwise operator\n",
        "#0 & 1\n",
        "#6\n",
        "\n",
        "     #8421\n",
        "#11   1011\n",
        "#14   1110\n",
        "#-------------\n",
        "#     1010\n",
        "#     8421\n",
        "#----------\n",
        "#     8+0+20   it means if there is 1 at any bit then the bits will be added where 1 placed\n",
        "#     10\n",
        "\n",
        "11 & 14\n",
        "\n",
        "13 & 7\n",
        "\n",
        "#8421   OR = |\n",
        "10 | 8\n",
        "\n"
      ],
      "metadata": {
        "colab": {
          "base_uri": "https://localhost:8080/"
        },
        "id": "_9ZbGIvd_xyC",
        "outputId": "2d903cf9-dd92-441b-99ae-dae6ebe5a21f"
      },
      "execution_count": 16,
      "outputs": [
        {
          "output_type": "execute_result",
          "data": {
            "text/plain": [
              "10"
            ]
          },
          "metadata": {},
          "execution_count": 16
        }
      ]
    },
    {
      "cell_type": "code",
      "source": [
        "for i in range(50,9,-1):\n",
        "  print(i)"
      ],
      "metadata": {
        "id": "nNwmShpFAJ1o",
        "outputId": "5d6c7177-c38c-4875-da6e-9892c136f85c",
        "colab": {
          "base_uri": "https://localhost:8080/"
        }
      },
      "execution_count": 17,
      "outputs": [
        {
          "output_type": "stream",
          "name": "stdout",
          "text": [
            "50\n",
            "49\n",
            "48\n",
            "47\n",
            "46\n",
            "45\n",
            "44\n",
            "43\n",
            "42\n",
            "41\n",
            "40\n",
            "39\n",
            "38\n",
            "37\n",
            "36\n",
            "35\n",
            "34\n",
            "33\n",
            "32\n",
            "31\n",
            "30\n",
            "29\n",
            "28\n",
            "27\n",
            "26\n",
            "25\n",
            "24\n",
            "23\n",
            "22\n",
            "21\n",
            "20\n",
            "19\n",
            "18\n",
            "17\n",
            "16\n",
            "15\n",
            "14\n",
            "13\n",
            "12\n",
            "11\n",
            "10\n"
          ]
        }
      ]
    },
    {
      "cell_type": "code",
      "source": [
        "sum=0\n",
        "for i in range(1,11):\n",
        "  sum=sum+i\n",
        "print(sum)\n",
        ""
      ],
      "metadata": {
        "id": "UmBxvMFRANyl",
        "outputId": "9faf463b-c114-4f16-f6a6-35227dd86248",
        "colab": {
          "base_uri": "https://localhost:8080/"
        }
      },
      "execution_count": 18,
      "outputs": [
        {
          "output_type": "stream",
          "name": "stdout",
          "text": [
            "55\n"
          ]
        }
      ]
    },
    {
      "cell_type": "code",
      "source": [
        "count=0\n",
        "for i in range(69,3,-1):\n",
        "  count+=1\n",
        "print(count)\n",
        ""
      ],
      "metadata": {
        "id": "uUx_8ZZeAZKQ",
        "outputId": "32a3367d-0ee8-4404-b10d-c04a6decd920",
        "colab": {
          "base_uri": "https://localhost:8080/"
        }
      },
      "execution_count": 19,
      "outputs": [
        {
          "output_type": "stream",
          "name": "stdout",
          "text": [
            "66\n"
          ]
        }
      ]
    },
    {
      "cell_type": "code",
      "source": [
        "for i in range(1,14):\n",
        "  if (i%3)==0:\n",
        "    print(i)"
      ],
      "metadata": {
        "id": "K68hFiYbAl1-",
        "outputId": "96807c82-45b6-4051-8bf3-60e55de94f4a",
        "colab": {
          "base_uri": "https://localhost:8080/"
        }
      },
      "execution_count": 20,
      "outputs": [
        {
          "output_type": "stream",
          "name": "stdout",
          "text": [
            "3\n",
            "6\n",
            "9\n",
            "12\n"
          ]
        }
      ]
    },
    {
      "cell_type": "code",
      "source": [
        "even=0\n",
        "odd=0\n",
        "for i in range(55,21,-1):\n",
        "  if (i%2)==0:\n",
        "    even=even+i;\n",
        "  elif(i%2!=0):\n",
        "    odd=odd+i\n",
        "print(even)\n",
        "print(odd)"
      ],
      "metadata": {
        "id": "EAGj6q4MAs6J",
        "outputId": "9b7ed0c7-722a-4988-8b2c-af0b1e4242e2",
        "colab": {
          "base_uri": "https://localhost:8080/"
        }
      },
      "execution_count": 21,
      "outputs": [
        {
          "output_type": "stream",
          "name": "stdout",
          "text": [
            "646\n",
            "663\n"
          ]
        }
      ]
    },
    {
      "cell_type": "code",
      "source": [
        "# difference b/w callby value and callby reference\n",
        "# what is ascii values and utf values\n",
        "# different datatype in python\n",
        "# difference b/w is operator and == operator"
      ],
      "metadata": {
        "id": "9hwqzVWqAzkk"
      },
      "execution_count": null,
      "outputs": []
    }
  ]
}