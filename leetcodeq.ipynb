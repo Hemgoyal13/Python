{
  "nbformat": 4,
  "nbformat_minor": 0,
  "metadata": {
    "colab": {
      "provenance": []
    },
    "kernelspec": {
      "name": "python3",
      "display_name": "Python 3"
    },
    "language_info": {
      "name": "python"
    }
  },
  "cells": [
    {
      "cell_type": "code",
      "execution_count": 5,
      "metadata": {
        "colab": {
          "base_uri": "https://localhost:8080/"
        },
        "id": "0Uxn4s6Xt1-w",
        "outputId": "5b20b65f-e192-4bbc-c444-0f7cff49e7f6"
      },
      "outputs": [
        {
          "output_type": "stream",
          "name": "stdout",
          "text": [
            "[1, 3, 12, 0, 0]\n"
          ]
        }
      ],
      "source": [
        "#leetcode problem movezeros\n",
        "class Solution:\n",
        "    def moveZeroes(self, nums) -> None:\n",
        "        left=0\n",
        "        right=len(nums)-1\n",
        "        while(left<right):\n",
        "            if(nums[left]==0):\n",
        "                nums.pop(left)\n",
        "                nums.append(0)\n",
        "                right=right-1\n",
        "            else:\n",
        "                left=left+1\n",
        "\n",
        "s=Solution()\n",
        "y=[0,1,0,3,12]\n",
        "s.moveZeroes(y)\n",
        "print(y)"
      ]
    },
    {
      "cell_type": "code",
      "source": [
        "class Solution:\n",
        "    def reverseString(self, s) -> None:\n",
        "        l=0\n",
        "        r=len(s)-1\n",
        "        while(l<r):\n",
        "            s[l],s[r]=s[r],s[l]\n",
        "            l+=1\n",
        "            r-=1\n",
        "\n",
        "s=Solution()\n",
        "y=[\"h\",\"e\",\"l\",\"l\",\"o\"]\n",
        "s.reverseString(y)\n",
        "print(y)\n"
      ],
      "metadata": {
        "colab": {
          "base_uri": "https://localhost:8080/"
        },
        "id": "FqCVaiKqv1kt",
        "outputId": "94205e70-4d04-4b41-d7b8-66879dc4e552"
      },
      "execution_count": 6,
      "outputs": [
        {
          "output_type": "stream",
          "name": "stdout",
          "text": [
            "['o', 'l', 'l', 'e', 'h']\n"
          ]
        }
      ]
    }
  ]
}