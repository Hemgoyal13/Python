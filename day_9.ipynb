{
  "nbformat": 4,
  "nbformat_minor": 0,
  "metadata": {
    "colab": {
      "provenance": []
    },
    "kernelspec": {
      "name": "python3",
      "display_name": "Python 3"
    },
    "language_info": {
      "name": "python"
    }
  },
  "cells": [
    {
      "cell_type": "code",
      "execution_count": 15,
      "metadata": {
        "colab": {
          "base_uri": "https://localhost:8080/"
        },
        "id": "_1x_l8nfdQa4",
        "outputId": "9005b781-d32a-477d-8caf-ae94205021de"
      },
      "outputs": [
        {
          "output_type": "stream",
          "name": "stdout",
          "text": [
            "1 max value:= 50\n",
            "2 max value:= 40\n"
          ]
        }
      ],
      "source": [
        "mylist=[10,30,50,30,40,50 ]\n",
        "max=0\n",
        "smax=0\n",
        "for i in mylist:\n",
        "  if(i>max):\n",
        "    smax=max\n",
        "    max=i\n",
        "  elif(i>smax and i!=max):\n",
        "    smax=i\n",
        "\n",
        "print(\"1 max value:=\",max)\n",
        "print(\"2 max value:=\",smax)\n",
        "\n"
      ]
    },
    {
      "cell_type": "code",
      "source": [
        "\n",
        "mylist=[0,1,2,3,4,7,11,13]\n",
        "start=0\n",
        "end=len(mylist)-1\n",
        "target=9\n",
        "while(True):\n",
        "  if(mylist[start]+mylist[end]==target):\n",
        "    print(mylist[start],mylist[end])\n",
        "    break\n",
        "  elif(mylist[start]+mylist[end]<target):\n",
        "    start+=1\n",
        "  else:\n",
        "    end-=1\n",
        "\n",
        "\n"
      ],
      "metadata": {
        "colab": {
          "base_uri": "https://localhost:8080/"
        },
        "id": "NTdnqKh0sWXT",
        "outputId": "be1808a9-ea00-44dd-ca2f-2370448ad2c2"
      },
      "execution_count": null,
      "outputs": [
        {
          "output_type": "stream",
          "name": "stdout",
          "text": [
            "2 7\n"
          ]
        }
      ]
    },
    {
      "cell_type": "code",
      "source": [
        "num=1\n",
        "num2=2\n",
        "for i in range(1,6):\n",
        "\n",
        "  for k in range(i,5):\n",
        "    print(\" \",end=\"\")\n",
        "  for j in range(1,i+1):\n",
        "    if(j==1 or j==i):\n",
        "      print(num,end=\" \")\n",
        "    else:\n",
        "      print(num2,end=\" \")\n",
        "      num2+=1\n",
        "  print(\"\")"
      ],
      "metadata": {
        "colab": {
          "base_uri": "https://localhost:8080/"
        },
        "id": "NyOFAlj6wVEA",
        "outputId": "8db434ca-07d5-4226-f9d1-47907835f530"
      },
      "execution_count": null,
      "outputs": [
        {
          "output_type": "stream",
          "name": "stdout",
          "text": [
            "    1 \n",
            "   1 1 \n",
            "  1 2 1 \n",
            " 1 3 4 1 \n",
            "1 5 6 7 1 \n"
          ]
        }
      ]
    },
    {
      "cell_type": "code",
      "source": [
        "mylist=[]\n",
        "for i in range(1,6):\n",
        "  templist=[]\n",
        "  for k in range(i,5):\n",
        "    print(\" \",end=\"\")\n",
        "  for j in range(1,i+1):\n",
        "    if(j==1 or j==i):\n",
        "      print(\"1\",end=\" \")\n",
        "      templist.append(1)\n",
        "    else:\n",
        "      print(mylist[i-2][j-2]+mylist[i-2][j-1],end=\" \")\n",
        "      templist.append(mylist[i-2][j-2]+mylist[i-2][j-1])\n",
        "  mylist.append(templist)\n",
        "\n",
        "  print()\n",
        "print(mylist)\n",
        "\n"
      ],
      "metadata": {
        "colab": {
          "base_uri": "https://localhost:8080/"
        },
        "id": "okO-_txdy4oh",
        "outputId": "9d2f3423-d4ca-4da9-ee40-0f82c75f732b"
      },
      "execution_count": null,
      "outputs": [
        {
          "output_type": "stream",
          "name": "stdout",
          "text": [
            "    1 \n",
            "   1 1 \n",
            "  1 2 1 \n",
            " 1 3 3 1 \n",
            "1 4 6 4 1 \n",
            "[[1], [1, 1], [1, 2, 1], [1, 3, 3, 1], [1, 4, 6, 4, 1]]\n"
          ]
        }
      ]
    },
    {
      "cell_type": "code",
      "source": [],
      "metadata": {
        "id": "4FUafvKR70TL"
      },
      "execution_count": null,
      "outputs": []
    }
  ]
}