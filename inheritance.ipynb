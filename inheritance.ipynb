{
 "cells": [
  {
   "cell_type": "code",
   "execution_count": 11,
   "id": "c745a526-c001-44ff-a9ca-1588c1e624dc",
   "metadata": {},
   "outputs": [
    {
     "name": "stdout",
     "output_type": "stream",
     "text": [
      "Engine Started.\n",
      "Wheel is rotating\n",
      "Car is driving.\n"
     ]
    }
   ],
   "source": [
    "class Engine:\n",
    "    def Start_engine(self):\n",
    "        print(\"Engine Started.\")\n",
    "\n",
    "class Wheels:\n",
    "    def rotate_wheel(self):\n",
    "        print(\"Wheel is rotating\")\n",
    "\n",
    "class Car(Engine, Wheels):\n",
    "    def drive(self):\n",
    "        print(\"Car is driving.\")\n",
    "\n",
    "my_car=Car()\n",
    "my_car.Start_engine()\n",
    "my_car.rotate_wheel()\n",
    "my_car.drive()"
   ]
  },
  {
   "cell_type": "code",
   "execution_count": 12,
   "id": "d4c679e8-9203-43f5-9399-10c92900b77c",
   "metadata": {},
   "outputs": [
    {
     "name": "stdout",
     "output_type": "stream",
     "text": [
      "Puppy is barking\n",
      "Animal is eating\n",
      "puppy ia weeping\n"
     ]
    }
   ],
   "source": [
    "class Animal:\n",
    "    def eat(self):\n",
    "        print(\"Animal is eating\")\n",
    "\n",
    "class Dog(Animal):\n",
    "    def bark(self):\n",
    "        print(\"Puppy is barking\")\n",
    "\n",
    "class Puppy(Dog):\n",
    "    def weep(self):\n",
    "        print(\"puppy ia weeping\")\n",
    "\n",
    "p1=Puppy()\n",
    "p1.bark()\n",
    "p1.eat()\n",
    "p1.weep()"
   ]
  },
  {
   "cell_type": "code",
   "execution_count": 15,
   "id": "d209b361-6f49-43ee-817d-cb1c4b478b36",
   "metadata": {},
   "outputs": [
    {
     "name": "stdout",
     "output_type": "stream",
     "text": [
      "Tech Solutions\n"
     ]
    },
    {
     "data": {
      "text/plain": [
       "'Tech Solutions'"
      ]
     },
     "execution_count": 15,
     "metadata": {},
     "output_type": "execute_result"
    }
   ],
   "source": [
    "# decorator method\n",
    "\n",
    "class Employee:\n",
    "    company_name=\"Tech Solutions\"\n",
    "\n",
    "    def __init__(self,name,salary):\n",
    "        self.name=name\n",
    "        self.salary=salary\n",
    "\n",
    "    @classmethod\n",
    "    def change_company_name(cls,new_name):\n",
    "        cls.company_name=new_name\n",
    "\n",
    "emp1=Employee(\"sam\",50000)\n",
    "\n",
    "print(Employee.company_name)\n",
    "emp1.company_name\n",
    "\n"
   ]
  }
 ],
 "metadata": {
  "kernelspec": {
   "display_name": "Python 3 (ipykernel)",
   "language": "python",
   "name": "python3"
  },
  "language_info": {
   "codemirror_mode": {
    "name": "ipython",
    "version": 3
   },
   "file_extension": ".py",
   "mimetype": "text/x-python",
   "name": "python",
   "nbconvert_exporter": "python",
   "pygments_lexer": "ipython3",
   "version": "3.12.6"
  }
 },
 "nbformat": 4,
 "nbformat_minor": 5
}
